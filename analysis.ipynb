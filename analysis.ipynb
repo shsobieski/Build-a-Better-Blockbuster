{
 "cells": [
  {
   "cell_type": "markdown",
   "metadata": {},
   "source": [
    "# Analysis\n",
    "\n",
    "Goal: Analyze the available data to present a concise representation of the movie industry, analyze the success of movies based on various factors, and provide insights and reccomendations for the development of film projects.\n",
    "\n",
    "As described in the data cleaning notebook and README, this is the methodology for our analysis. This notebook contains all of step 5: data analysis.\n",
    "\n",
    "Methodology:\n",
    "    \n",
    "1. Explore the data to determine what sorts of questions it can help answer.\n",
    "2. Determine 3 relevant questions to examine. \n",
    "3. Clean the data. \n",
    "4. Restructure the data so that it can be analyzed.\n",
    "5. Use data visualizations and statistical analysis to make inferences.\n",
    "6. Develop a presentation of findings. "
   ]
  },
  {
   "cell_type": "code",
   "execution_count": 1,
   "metadata": {},
   "outputs": [],
   "source": [
    "import pandas as pd\n",
    "import matplotlib.pyplot as plt\n",
    "import seaborn as sns\n",
    "\n",
    "%matplotlib inline\n",
    "\n",
    "sns.set_style('darkgrid')\n",
    "sns.set_context('talk')"
   ]
  },
  {
   "cell_type": "code",
   "execution_count": 2,
   "metadata": {},
   "outputs": [],
   "source": [
    "movies = pd.read_csv('movies.csv')"
   ]
  },
  {
   "cell_type": "markdown",
   "metadata": {},
   "source": [
    "### Feature Creation\n",
    "\n",
    "Before I do any financial analysis I'll need to standardize the dollar values to 2019 dollars. I'll base my estimates on an average inflation of 3.16% per year since 1915.  "
   ]
  },
  {
   "cell_type": "code",
   "execution_count": 3,
   "metadata": {
    "scrolled": false
   },
   "outputs": [
    {
     "data": {
      "text/plain": [
       "1915"
      ]
     },
     "metadata": {},
     "output_type": "display_data"
    },
    {
     "data": {
      "text/plain": [
       "2019"
      ]
     },
     "metadata": {},
     "output_type": "display_data"
    }
   ],
   "source": [
    "display(movies['year'].min())\n",
    "display(movies['year'].max())"
   ]
  },
  {
   "cell_type": "code",
   "execution_count": 4,
   "metadata": {
    "scrolled": true
   },
   "outputs": [
    {
     "data": {
      "text/html": [
       "<div>\n",
       "<style scoped>\n",
       "    .dataframe tbody tr th:only-of-type {\n",
       "        vertical-align: middle;\n",
       "    }\n",
       "\n",
       "    .dataframe tbody tr th {\n",
       "        vertical-align: top;\n",
       "    }\n",
       "\n",
       "    .dataframe thead th {\n",
       "        text-align: right;\n",
       "    }\n",
       "</style>\n",
       "<table border=\"1\" class=\"dataframe\">\n",
       "  <thead>\n",
       "    <tr style=\"text-align: right;\">\n",
       "      <th></th>\n",
       "      <th>Unnamed: 0</th>\n",
       "      <th>title</th>\n",
       "      <th>genres</th>\n",
       "      <th>averagerating</th>\n",
       "      <th>numvotes</th>\n",
       "      <th>primary_name</th>\n",
       "      <th>status</th>\n",
       "      <th>category</th>\n",
       "      <th>production_budget</th>\n",
       "      <th>domestic_gross</th>\n",
       "      <th>worldwide_gross</th>\n",
       "      <th>month</th>\n",
       "      <th>year</th>\n",
       "      <th>foreign_gross</th>\n",
       "    </tr>\n",
       "  </thead>\n",
       "  <tbody>\n",
       "    <tr>\n",
       "      <td>0</td>\n",
       "      <td>0</td>\n",
       "      <td>#Horror</td>\n",
       "      <td>Crime,Drama,Horror</td>\n",
       "      <td>3.0</td>\n",
       "      <td>3092</td>\n",
       "      <td>Tara Subkoff</td>\n",
       "      <td>Working</td>\n",
       "      <td>director</td>\n",
       "      <td>1500000</td>\n",
       "      <td>0</td>\n",
       "      <td>0</td>\n",
       "      <td>Nov</td>\n",
       "      <td>2015</td>\n",
       "      <td>0</td>\n",
       "    </tr>\n",
       "    <tr>\n",
       "      <td>1</td>\n",
       "      <td>1</td>\n",
       "      <td>#Horror</td>\n",
       "      <td>Crime,Drama,Horror</td>\n",
       "      <td>3.0</td>\n",
       "      <td>3092</td>\n",
       "      <td>Brendan Walsh</td>\n",
       "      <td>Working</td>\n",
       "      <td>producer</td>\n",
       "      <td>1500000</td>\n",
       "      <td>0</td>\n",
       "      <td>0</td>\n",
       "      <td>Nov</td>\n",
       "      <td>2015</td>\n",
       "      <td>0</td>\n",
       "    </tr>\n",
       "    <tr>\n",
       "      <td>2</td>\n",
       "      <td>2</td>\n",
       "      <td>#Horror</td>\n",
       "      <td>Crime,Drama,Horror</td>\n",
       "      <td>3.0</td>\n",
       "      <td>3092</td>\n",
       "      <td>Oren Segal</td>\n",
       "      <td>Working</td>\n",
       "      <td>producer</td>\n",
       "      <td>1500000</td>\n",
       "      <td>0</td>\n",
       "      <td>0</td>\n",
       "      <td>Nov</td>\n",
       "      <td>2015</td>\n",
       "      <td>0</td>\n",
       "    </tr>\n",
       "    <tr>\n",
       "      <td>3</td>\n",
       "      <td>3</td>\n",
       "      <td>#Horror</td>\n",
       "      <td>Crime,Drama,Horror</td>\n",
       "      <td>3.0</td>\n",
       "      <td>3092</td>\n",
       "      <td>Haley Murphy</td>\n",
       "      <td>Working</td>\n",
       "      <td>actress</td>\n",
       "      <td>1500000</td>\n",
       "      <td>0</td>\n",
       "      <td>0</td>\n",
       "      <td>Nov</td>\n",
       "      <td>2015</td>\n",
       "      <td>0</td>\n",
       "    </tr>\n",
       "    <tr>\n",
       "      <td>4</td>\n",
       "      <td>4</td>\n",
       "      <td>#Horror</td>\n",
       "      <td>Crime,Drama,Horror</td>\n",
       "      <td>3.0</td>\n",
       "      <td>3092</td>\n",
       "      <td>Jason Ludman</td>\n",
       "      <td>Working</td>\n",
       "      <td>producer</td>\n",
       "      <td>1500000</td>\n",
       "      <td>0</td>\n",
       "      <td>0</td>\n",
       "      <td>Nov</td>\n",
       "      <td>2015</td>\n",
       "      <td>0</td>\n",
       "    </tr>\n",
       "  </tbody>\n",
       "</table>\n",
       "</div>"
      ],
      "text/plain": [
       "   Unnamed: 0    title              genres  averagerating  numvotes  \\\n",
       "0           0  #Horror  Crime,Drama,Horror            3.0      3092   \n",
       "1           1  #Horror  Crime,Drama,Horror            3.0      3092   \n",
       "2           2  #Horror  Crime,Drama,Horror            3.0      3092   \n",
       "3           3  #Horror  Crime,Drama,Horror            3.0      3092   \n",
       "4           4  #Horror  Crime,Drama,Horror            3.0      3092   \n",
       "\n",
       "    primary_name   status  category  production_budget  domestic_gross  \\\n",
       "0   Tara Subkoff  Working  director            1500000               0   \n",
       "1  Brendan Walsh  Working  producer            1500000               0   \n",
       "2     Oren Segal  Working  producer            1500000               0   \n",
       "3   Haley Murphy  Working   actress            1500000               0   \n",
       "4   Jason Ludman  Working  producer            1500000               0   \n",
       "\n",
       "   worldwide_gross month  year  foreign_gross  \n",
       "0                0   Nov  2015              0  \n",
       "1                0   Nov  2015              0  \n",
       "2                0   Nov  2015              0  \n",
       "3                0   Nov  2015              0  \n",
       "4                0   Nov  2015              0  "
      ]
     },
     "execution_count": 4,
     "metadata": {},
     "output_type": "execute_result"
    }
   ],
   "source": [
    "movies.head()"
   ]
  },
  {
   "cell_type": "code",
   "execution_count": 5,
   "metadata": {},
   "outputs": [
    {
     "data": {
      "text/html": [
       "<div>\n",
       "<style scoped>\n",
       "    .dataframe tbody tr th:only-of-type {\n",
       "        vertical-align: middle;\n",
       "    }\n",
       "\n",
       "    .dataframe tbody tr th {\n",
       "        vertical-align: top;\n",
       "    }\n",
       "\n",
       "    .dataframe thead th {\n",
       "        text-align: right;\n",
       "    }\n",
       "</style>\n",
       "<table border=\"1\" class=\"dataframe\">\n",
       "  <thead>\n",
       "    <tr style=\"text-align: right;\">\n",
       "      <th></th>\n",
       "      <th>Unnamed: 0</th>\n",
       "      <th>averagerating</th>\n",
       "      <th>numvotes</th>\n",
       "      <th>production_budget</th>\n",
       "      <th>domestic_gross</th>\n",
       "      <th>worldwide_gross</th>\n",
       "      <th>year</th>\n",
       "      <th>foreign_gross</th>\n",
       "      <th>adj_dom_gross</th>\n",
       "      <th>adj_frn_gross</th>\n",
       "      <th>adj_wide_gross</th>\n",
       "      <th>adj_prod_budg</th>\n",
       "      <th>profit</th>\n",
       "    </tr>\n",
       "    <tr>\n",
       "      <th>title</th>\n",
       "      <th></th>\n",
       "      <th></th>\n",
       "      <th></th>\n",
       "      <th></th>\n",
       "      <th></th>\n",
       "      <th></th>\n",
       "      <th></th>\n",
       "      <th></th>\n",
       "      <th></th>\n",
       "      <th></th>\n",
       "      <th></th>\n",
       "      <th></th>\n",
       "      <th></th>\n",
       "    </tr>\n",
       "  </thead>\n",
       "  <tbody>\n",
       "    <tr>\n",
       "      <td>#Horror</td>\n",
       "      <td>4.5</td>\n",
       "      <td>3.0</td>\n",
       "      <td>3092.0</td>\n",
       "      <td>1500000.0</td>\n",
       "      <td>0.0</td>\n",
       "      <td>0.0</td>\n",
       "      <td>2015.0</td>\n",
       "      <td>0.0</td>\n",
       "      <td>0.00</td>\n",
       "      <td>0.00</td>\n",
       "      <td>0.000000e+00</td>\n",
       "      <td>1698777.86</td>\n",
       "      <td>-1.698778e+06</td>\n",
       "    </tr>\n",
       "    <tr>\n",
       "      <td>10 Cloverfield Lane</td>\n",
       "      <td>14.5</td>\n",
       "      <td>7.2</td>\n",
       "      <td>260383.0</td>\n",
       "      <td>5000000.0</td>\n",
       "      <td>72082999.0</td>\n",
       "      <td>108286422.0</td>\n",
       "      <td>2016.0</td>\n",
       "      <td>36203423.0</td>\n",
       "      <td>79134679.45</td>\n",
       "      <td>39745103.75</td>\n",
       "      <td>1.188798e+08</td>\n",
       "      <td>5489136.17</td>\n",
       "      <td>1.133906e+08</td>\n",
       "    </tr>\n",
       "    <tr>\n",
       "      <td>10 Days in a Madhouse</td>\n",
       "      <td>24.5</td>\n",
       "      <td>6.7</td>\n",
       "      <td>1114.0</td>\n",
       "      <td>12000000.0</td>\n",
       "      <td>14616.0</td>\n",
       "      <td>14616.0</td>\n",
       "      <td>2015.0</td>\n",
       "      <td>0.0</td>\n",
       "      <td>16552.89</td>\n",
       "      <td>0.00</td>\n",
       "      <td>1.655289e+04</td>\n",
       "      <td>13590222.90</td>\n",
       "      <td>-1.357367e+07</td>\n",
       "    </tr>\n",
       "    <tr>\n",
       "      <td>12 Rounds</td>\n",
       "      <td>34.0</td>\n",
       "      <td>8.1</td>\n",
       "      <td>11.0</td>\n",
       "      <td>20000000.0</td>\n",
       "      <td>12234694.0</td>\n",
       "      <td>17306648.0</td>\n",
       "      <td>2009.0</td>\n",
       "      <td>5071954.0</td>\n",
       "      <td>16699614.52</td>\n",
       "      <td>6922909.28</td>\n",
       "      <td>2.362252e+07</td>\n",
       "      <td>27298785.77</td>\n",
       "      <td>-3.676262e+06</td>\n",
       "    </tr>\n",
       "    <tr>\n",
       "      <td>12 Strong</td>\n",
       "      <td>43.5</td>\n",
       "      <td>6.6</td>\n",
       "      <td>50155.0</td>\n",
       "      <td>35000000.0</td>\n",
       "      <td>45819713.0</td>\n",
       "      <td>71118378.0</td>\n",
       "      <td>2018.0</td>\n",
       "      <td>25298665.0</td>\n",
       "      <td>47267615.93</td>\n",
       "      <td>26098102.81</td>\n",
       "      <td>7.336572e+07</td>\n",
       "      <td>36106000.00</td>\n",
       "      <td>3.725972e+07</td>\n",
       "    </tr>\n",
       "  </tbody>\n",
       "</table>\n",
       "</div>"
      ],
      "text/plain": [
       "                       Unnamed: 0  averagerating  numvotes  production_budget  \\\n",
       "title                                                                           \n",
       "#Horror                       4.5            3.0    3092.0          1500000.0   \n",
       "10 Cloverfield Lane          14.5            7.2  260383.0          5000000.0   \n",
       "10 Days in a Madhouse        24.5            6.7    1114.0         12000000.0   \n",
       "12 Rounds                    34.0            8.1      11.0         20000000.0   \n",
       "12 Strong                    43.5            6.6   50155.0         35000000.0   \n",
       "\n",
       "                       domestic_gross  worldwide_gross    year  foreign_gross  \\\n",
       "title                                                                           \n",
       "#Horror                           0.0              0.0  2015.0            0.0   \n",
       "10 Cloverfield Lane        72082999.0      108286422.0  2016.0     36203423.0   \n",
       "10 Days in a Madhouse         14616.0          14616.0  2015.0            0.0   \n",
       "12 Rounds                  12234694.0       17306648.0  2009.0      5071954.0   \n",
       "12 Strong                  45819713.0       71118378.0  2018.0     25298665.0   \n",
       "\n",
       "                       adj_dom_gross  adj_frn_gross  adj_wide_gross  \\\n",
       "title                                                                 \n",
       "#Horror                         0.00           0.00    0.000000e+00   \n",
       "10 Cloverfield Lane      79134679.45    39745103.75    1.188798e+08   \n",
       "10 Days in a Madhouse       16552.89           0.00    1.655289e+04   \n",
       "12 Rounds                16699614.52     6922909.28    2.362252e+07   \n",
       "12 Strong                47267615.93    26098102.81    7.336572e+07   \n",
       "\n",
       "                       adj_prod_budg        profit  \n",
       "title                                               \n",
       "#Horror                   1698777.86 -1.698778e+06  \n",
       "10 Cloverfield Lane       5489136.17  1.133906e+08  \n",
       "10 Days in a Madhouse    13590222.90 -1.357367e+07  \n",
       "12 Rounds                27298785.77 -3.676262e+06  \n",
       "12 Strong                36106000.00  3.725972e+07  "
      ]
     },
     "execution_count": 5,
     "metadata": {},
     "output_type": "execute_result"
    }
   ],
   "source": [
    "#Create a dictionary with year keys and inflation rate values.\n",
    "years = sorted(range(1915,2020), reverse=True)\n",
    "infl_dict = {}\n",
    "infl_rate = 1/1.0316\n",
    "for year in years:\n",
    "    infl_rate *= 1.0316 \n",
    "    infl_dict[year] = infl_rate\n",
    "\n",
    "#Define function to convert dollars to 2019 value.\n",
    "def adjust(value, year):\n",
    "    \"\"\"Return inflation adjusted value.\"\"\"\n",
    "    return round(value*infl_dict[year], 2)\n",
    "\n",
    "#Assign the adjusted values to new columns\n",
    "movies['adj_dom_gross'] = [\n",
    "    adjust(movies.loc[row,'domestic_gross'], \n",
    "           movies.loc[row,'year']) \n",
    "    for row in range(0,len(movies))\n",
    "    ]\n",
    "movies['adj_frn_gross'] = [\n",
    "    adjust(movies.loc[row,'foreign_gross'],\n",
    "           movies.loc[row,'year']) \n",
    "    for row in range(0,len(movies))\n",
    "    ]\n",
    "movies['adj_wide_gross'] = [\n",
    "    adjust(movies.loc[row,'worldwide_gross'],\n",
    "           movies.loc[row,'year']) \n",
    "    for row in range(0,len(movies))\n",
    "    ]\n",
    "movies['adj_prod_budg'] = [\n",
    "    adjust(movies.loc[row,'production_budget'],\n",
    "           movies.loc[row,'year']) \n",
    "    for row in range(0,len(movies))]\n",
    "\n",
    "#Add a profit column.\n",
    "movies['profit']=(movies['adj_wide_gross']\n",
    "                  -movies['adj_prod_budg'])\n",
    "\n",
    "movies.groupby('title').mean().head()"
   ]
  },
  {
   "cell_type": "markdown",
   "metadata": {},
   "source": [
    "Looks great!"
   ]
  },
  {
   "cell_type": "markdown",
   "metadata": {},
   "source": [
    "# Background\n",
    "\n",
    "The goal of the background section is look at trends of the industry overall and to to define the threshold I will use to define success throughout the analysis."
   ]
  },
  {
   "cell_type": "markdown",
   "metadata": {},
   "source": [
    "### Industry Trends\n",
    "Because we're most interested in recent trends, I'll investigate trends over the last 20 years. "
   ]
  },
  {
   "cell_type": "code",
   "execution_count": 6,
   "metadata": {
    "scrolled": true
   },
   "outputs": [
    {
     "data": {
      "text/plain": [
       "2010"
      ]
     },
     "execution_count": 6,
     "metadata": {},
     "output_type": "execute_result"
    }
   ],
   "source": [
    "#Get the amount of movies released since 1999 in our data.\n",
    "trends = movies[movies['year']>=1999]\n",
    "trends['title'].nunique()"
   ]
  },
  {
   "cell_type": "markdown",
   "metadata": {},
   "source": [
    "I have over 2000 movies in the sample. First I'll observe how profits have changed in the last 20 years. I'll use average profit rather than totals to account for differences in the amount of movies in our data for each year. "
   ]
  },
  {
   "cell_type": "code",
   "execution_count": 7,
   "metadata": {
    "scrolled": true
   },
   "outputs": [
    {
     "data": {
      "image/png": "[encoded data removed]",
      "text/plain": [
       "<Figure size 1008x504 with 1 Axes>"
      ]
     },
     "metadata": {
      "needs_background": "light"
     },
     "output_type": "display_data"
    }
   ],
   "source": [
    "#Plot the average gross per year.\n",
    "fig, ax = plt.subplots(figsize=(14,7))\n",
    "plt.title('Adjusted Mean Gross by Year')\n",
    "plt.yticks(ticks=[50000000,100000000,150000000,200000000], \n",
    "           labels=['$50 Mil','$100 Mil', \n",
    "                   '$150 Mil', '$200 Mil'])\n",
    "plt.xticks(ticks=[2000,2005,2010,2015,2019])\n",
    "sns.lineplot(y='adj_wide_gross', x='year', data=trends, \n",
    "             label='Global Gross', ax=ax, \n",
    "             palette='colorblind')\n",
    "sns.lineplot(y='adj_dom_gross', x='year', data=trends, \n",
    "             label='Domestic Gross', ax=ax, \n",
    "             palette='colorblind')\n",
    "sns.lineplot(y='adj_frn_gross', x='year', data=trends, \n",
    "             label='Foreign Gross', ax=ax, \n",
    "             palette='colorblind')\n",
    "ax.set(xlabel='Year', ylabel='Gross Box Office')\n",
    "ax.legend(ncol=1, loc=\"upper left\", \n",
    "          frameon=True, fontsize='small')\n",
    "plt.savefig('figures/trends.png');"
   ]
  },
  {
   "cell_type": "code",
   "execution_count": 8,
   "metadata": {},
   "outputs": [],
   "source": [
    "def get_prop(yrlist):\n",
    "    \"\"\"Print proportion of foreign/wide gross \n",
    "    for 5 year span\"\"\"\n",
    "    frn = trends[(trends['year']==yrlist[0])|\n",
    "                 (trends['year']==yrlist[1])|\n",
    "                 (trends['year']==yrlist[2])|\n",
    "                 (trends['year']==yrlist[3])|\n",
    "                 (trends['year']==yrlist[4])][\n",
    "        'adj_frn_gross'].mean()\n",
    "    wide = trends[(trends['year']==yrlist[0])|\n",
    "                  (trends['year']==yrlist[1])|\n",
    "                  (trends['year']==yrlist[2])|\n",
    "                  (trends['year']==yrlist[3])|\n",
    "                  (trends['year']==yrlist[4])][\n",
    "    'adj_wide_gross'].mean()\n",
    "    print('{}-{} proportion wide gross from frn box: {}'\n",
    "          .format(yrlist[0], yrlist[4], round(frn/wide,2)))"
   ]
  },
  {
   "cell_type": "code",
   "execution_count": 9,
   "metadata": {},
   "outputs": [
    {
     "name": "stdout",
     "output_type": "stream",
     "text": [
      "1999-2003 proportion wide gross from frn box: 0.43\n",
      "2004-2008 proportion wide gross from frn box: 0.51\n",
      "2009-2013 proportion wide gross from frn box: 0.6\n",
      "2014-2018 proportion wide gross from frn box: 0.6\n"
     ]
    }
   ],
   "source": [
    "get_prop([1999,2000,2001,2002,2003])\n",
    "get_prop([2004,2005,2006,2007,2008])\n",
    "get_prop([2009,2010,2011,2012,2013])\n",
    "get_prop([2014,2015,2016,2017,2018])"
   ]
  },
  {
   "cell_type": "markdown",
   "metadata": {},
   "source": [
    "### Defining Success\n",
    "\n",
    "###### Profits"
   ]
  },
  {
   "cell_type": "code",
   "execution_count": 10,
   "metadata": {
    "scrolled": false
   },
   "outputs": [
    {
     "name": "stdout",
     "output_type": "stream",
     "text": [
      "The median profit is: $14787479.62\n",
      "The mean profit is: $95689612.93\n"
     ]
    },
    {
     "data": {
      "image/png": "[encoded data removed]",
      "text/plain": [
       "<Figure size 432x288 with 1 Axes>"
      ]
     },
     "metadata": {
      "needs_background": "light"
     },
     "output_type": "display_data"
    }
   ],
   "source": [
    "#Group the dataframe by movie.\n",
    "prodf = movies[['title','profit']].groupby('title').median()\n",
    "plt.title('Distribution of Profit')\n",
    "sns.distplot(prodf['profit'])\n",
    "plt.xlim(-100000000, 1000000000)\n",
    "plt.xticks(ticks=[0, 500000000,1000000000], \n",
    "           labels=['$0', '$500 Mil', '$1 Bil'])\n",
    "plt.savefig('figures/distprofit.png');\n",
    "\n",
    "print('The median profit is: $' \n",
    "      + str(round(prodf['profit'].median(),2)))\n",
    "print('The mean profit is: $' \n",
    "      + str(round(prodf['profit'].mean(),2)))"
   ]
  },
  {
   "cell_type": "markdown",
   "metadata": {},
   "source": [
    "This distribution is showing some major outliers dragging the central tendency toward the huge profits even though there are many films that made zero dollars. "
   ]
  },
  {
   "cell_type": "code",
   "execution_count": 11,
   "metadata": {
    "scrolled": false
   },
   "outputs": [
    {
     "name": "stdout",
     "output_type": "stream",
     "text": [
      "Top 25% of films made more than: 92843958.34\n",
      "Top 50% of films made more than: 14787479.62\n",
      "Top 75% of films made more than: -2402409.2\n",
      "100% of films made more than: -200237650.0\n"
     ]
    }
   ],
   "source": [
    "#Gather quartile data on profit.\n",
    "print('Top 25% of films made more than: ' \n",
    "      + str(round(prodf['profit'].quantile(.75),2)))\n",
    "print('Top 50% of films made more than: ' \n",
    "      + str(round(prodf['profit'].quantile(.5),2)))\n",
    "print('Top 75% of films made more than: ' \n",
    "      + str(round(prodf['profit'].quantile(.25),2)))\n",
    "print('100% of films made more than: ' \n",
    "      + str(round(prodf['profit'].quantile(0),2)))"
   ]
  },
  {
   "cell_type": "code",
   "execution_count": 12,
   "metadata": {
    "scrolled": false
   },
   "outputs": [
    {
     "name": "stdout",
     "output_type": "stream",
     "text": [
      "Films with over $100 Million Dollars Profit: 514(24.18%)\n",
      "Films with over $15 Million Dollars Profit: 545(25.63%)\n",
      "Films with less than $15 Million Dollars Profit: 276(12.98%)\n",
      "Films that lost money: 791(37.21%)\n"
     ]
    }
   ],
   "source": [
    "#Print the total(%) of films that fall into each category.\n",
    "total_films = len(prodf)\n",
    "print('Films with over $100 Million Dollars Profit: ' \n",
    "      +str(len(prodf[prodf['profit']>100000000]))\n",
    "      +'('+str(round((len(prodf[\n",
    "          prodf['profit']>100000000\n",
    "      ])/total_films)*100,2))+'%)')\n",
    "print('Films with over $15 Million Dollars Profit: ' \n",
    "      +str(len((prodf[(prodf['profit']>15000000)\n",
    "                      & (prodf['profit']<=100000000)])))\n",
    "      +'('+str(round((len(prodf[(\n",
    "          prodf['profit']>15000000)\n",
    "          &(prodf['profit']<=100000000)\n",
    "      ])/total_films)*100,2))+'%)')\n",
    "print('Films with less than $15 Million Dollars Profit: ' \n",
    "      +str(len((prodf[(prodf['profit']>0) \n",
    "                      & (prodf['profit']<=15000000)])))\n",
    "      +'('+str(round((len(prodf[(\n",
    "          prodf['profit']>0) \n",
    "          &(prodf['profit']<=15000000)\n",
    "      ])/total_films)*100,2))+'%)')\n",
    "print('Films that lost money: '\n",
    "      +str(len(prodf[prodf['profit']<0]))\n",
    "      +'('+str(round((len(prodf[\n",
    "          prodf['profit']<0\n",
    "      ])/total_films)*100, 2))+'%)')"
   ]
  },
  {
   "cell_type": "markdown",
   "metadata": {},
   "source": [
    "To split the data into categories I'll define 'hit' to mean any movie that makes over 15 million dollars and 'blockbuster' to mean movies that make over 100 million dollars. Any film that makes less than 15 million dollars can be called a 'flop', and any film that loses money can be defined a 'failure'."
   ]
  },
  {
   "cell_type": "code",
   "execution_count": 13,
   "metadata": {},
   "outputs": [
    {
     "data": {
      "text/plain": [
       "Failure (< $0 profit)              791\n",
       "Hit (> $15 mil profit)             545\n",
       "Blockbuster (> $100 mil profit)    514\n",
       "Flop (< $15 mil profit)            276\n",
       "Name: success, dtype: int64"
      ]
     },
     "execution_count": 13,
     "metadata": {},
     "output_type": "execute_result"
    }
   ],
   "source": [
    "#Create a categorical column for each success level.\n",
    "prodf.loc[prodf['profit']>100000000,\n",
    "           'success']='Blockbuster (> $100 mil profit)'\n",
    "prodf.loc[(prodf['profit']>15000000) \n",
    "           & (prodf['profit']<100000000), \n",
    "           'success']='Hit (> $15 mil profit)'\n",
    "prodf.loc[(prodf['profit']>0) \n",
    "           & (prodf['profit']<15000000), \n",
    "           'success']='Flop (< $15 mil profit)'\n",
    "prodf.loc[prodf['profit']<0, \n",
    "           'success']='Failure (< $0 profit)'\n",
    "\n",
    "#Test to make sure the column holds the information we want.\n",
    "prodf['success'].value_counts()"
   ]
  },
  {
   "cell_type": "code",
   "execution_count": 14,
   "metadata": {},
   "outputs": [
    {
     "data": {
      "image/png": "[encoded data removed]",
      "text/plain": [
       "<Figure size 1008x504 with 1 Axes>"
      ]
     },
     "metadata": {
      "needs_background": "light"
     },
     "output_type": "display_data"
    }
   ],
   "source": [
    "#Check the distribution with a visualization.\n",
    "sns.set_context('talk')\n",
    "fig, ax = plt.subplots(figsize=(14,7))\n",
    "plt.title('Distribution of Outcomes (2019 Dollars)')\n",
    "sns.countplot(x=prodf['success'], data=prodf, \n",
    "              order=['Failure (< $0 profit)',\n",
    "                     'Flop (< $15 mil profit)',\n",
    "                     'Hit (> $15 mil profit)',\n",
    "                     'Blockbuster (> $100 mil profit)'],\n",
    "              palette='colorblind')\n",
    "ax.set_yticks(ticks=[.1*2126, .2*2126, .3*2126])\n",
    "ax.set_yticklabels(labels=['10%','20%', '30%'])\n",
    "ax.set(xlabel='Profit Outcomes', ylabel='')\n",
    "plt.savefig('figures/distoutcomes.png');"
   ]
  },
  {
   "cell_type": "markdown",
   "metadata": {},
   "source": [
    "So the distribution I saw in the histogram of profits can be explained by the wide spread of profits in the top half of the sample, compared to the bunching around 0 in the bottom half. Using categorical data paints a much clearer picture of the data. I can use the 15 million dollar threshold to differentiate between success and failure, while targeting profits of over 100 million.\n",
    "\n",
    "###### Audience Rating\n",
    "\n",
    "To determine what our definition of success will be when it comes to audience rating, we have to answer two questions at once:\n",
    "\n",
    "- Do postive ratings lead to bigger box office returns?\n",
    "- What rating threshold should we aim for? \n",
    "\n",
    "To answer this question we'll compare worldwide box office to the average rating of the films."
   ]
  },
  {
   "cell_type": "code",
   "execution_count": 15,
   "metadata": {
    "scrolled": false
   },
   "outputs": [
    {
     "name": "stdout",
     "output_type": "stream",
     "text": [
      "Mean: 6.24\n",
      "Median: 6.3\n",
      "Max: 9.1\n",
      "Min: 1.6\n"
     ]
    },
    {
     "data": {
      "image/png": "[encoded data removed]",
      "text/plain": [
       "<Figure size 432x288 with 1 Axes>"
      ]
     },
     "metadata": {
      "needs_background": "light"
     },
     "output_type": "display_data"
    }
   ],
   "source": [
    "#Create a dataframe with the necessary data.\n",
    "aud_rate = movies[['title', 'averagerating', \n",
    "                   'adj_wide_gross', \n",
    "                   'numvotes']].groupby('title').mean()\n",
    "\n",
    "#Plot the distribution of ratings.\n",
    "plt.title('Distribution of Average Rating')\n",
    "sns.distplot(aud_rate['averagerating'])\n",
    "plt.savefig('figures/distavgrating.png');\n",
    "\n",
    "#Get measures of central tendency.\n",
    "print('Mean: '+ str(round(aud_rate['averagerating'].mean(),2)))\n",
    "print('Median: '+ str(round(aud_rate['averagerating'].median(),2)))\n",
    "print('Max: '+ str(round(aud_rate['averagerating'].max(),2)))\n",
    "print('Min: '+ str(round(aud_rate['averagerating'].min(),2)))"
   ]
  },
  {
   "cell_type": "code",
   "execution_count": null,
   "metadata": {},
   "outputs": [],
   "source": [
    "sns.lmplot(x='averagerating', y='adj_wide_gross', \n",
    "            data=aud_rate, aspect=2, height=4,\n",
    "           line_kws={'color':'black', 'linestyle':':'})\n",
    "plt.savefig('figures/scatavgrat.png');"
   ]
  },
  {
   "cell_type": "markdown",
   "metadata": {},
   "source": [
    "There appears to be a hint of positive correlation suggesting that higher quality films make more money. Next I'll look at quantile data to separate the ratings into 5 quality levels so we can look at the data categorically."
   ]
  },
  {
   "cell_type": "code",
   "execution_count": null,
   "metadata": {
    "scrolled": false
   },
   "outputs": [],
   "source": [
    "#Get the average ratings for quantiles of the data\n",
    "print('Top 20% of films average rating > ' \n",
    "      + str(round(aud_rate['averagerating'].quantile(.8),2)))\n",
    "print('Top 40% of films average rating > ' \n",
    "      + str(round(aud_rate['averagerating'].quantile(.6),2)))\n",
    "print('Top 60% of films average rating > ' \n",
    "      + str(round(aud_rate['averagerating'].quantile(.4),2)))\n",
    "print('Top 80% of films average rating > ' \n",
    "      + str(round(aud_rate['averagerating'].quantile(.2),2)))\n",
    "print('100% of films average rating > ' \n",
    "      + str(round(aud_rate['averagerating'].quantile(0),2)))"
   ]
  },
  {
   "cell_type": "markdown",
   "metadata": {},
   "source": [
    "Next I'll plot the categorical data on a boxplot. I'll need to do this again later, so I can define a two functions one that can group the data into 5 bins of numerical data and another that can create a boxplot. "
   ]
  },
  {
   "cell_type": "code",
   "execution_count": null,
   "metadata": {},
   "outputs": [],
   "source": [
    "\n",
    "def make_bins(df, col, cat, bin_names=[]):\n",
    "    \"\"\"Create 5 categorical bins based on quantile.\n",
    "    \n",
    "    kwargs= \n",
    "    bin_names= list of names for each category from highest\n",
    "    rating to lowest\"\"\"\n",
    "    df.loc[df.loc[:,col] > (round(df.loc[:,col]\n",
    "                                 .quantile(.8),2)),\n",
    "           cat]=bin_names[0]\n",
    "    df.loc[(df.loc[:,col] > (round(df.loc[:,col]\n",
    "                                  .quantile(.6),2))) \n",
    "                 &(df.loc[:,col]<=(round(df.loc[:,col]\n",
    "                                         .quantile(.8),2))),\n",
    "           cat]= bin_names[1]\n",
    "    df.loc[(df.loc[:,col] > round(df.loc[:,col]\n",
    "                                  .quantile(.4),2)) \n",
    "                 &(df.loc[:,col]<=round(df.loc[:,col]\n",
    "                                        .quantile(.6),2)), \n",
    "           cat]= bin_names[2]\n",
    "    df.loc[(df.loc[:,col] > round(df.loc[:,col]\n",
    "                                  .quantile(.2),2)) \n",
    "                 &(df.loc[:,col]<=round(df.loc[:,col]\n",
    "                                        .quantile(.4),2)), \n",
    "           cat]= bin_names[3]\n",
    "    df.loc[df.loc[:,col] < round(df.loc[:,col]\n",
    "                                 .quantile(.2),2),\n",
    "           cat]=bin_names[4]\n",
    "\n",
    "def cat_box(df, col, xcol, cat, xlabel, ticks, \n",
    "            labels, bin_names=[], \n",
    "            omitfliers=True, save=(False, 0)):\n",
    "    \"\"\"Plot numerical data in 5 bins based on quantile.\n",
    "    \n",
    "    kwargs=\n",
    "    bin_names= list of names for each category from highest\n",
    "    rating to lowest\n",
    "    \n",
    "    omitfliers= boolean, if True omits outliers from plot,\n",
    "    default True\n",
    "    \n",
    "    save= (boolean, str) if True saves figure to file\"\"\"\n",
    "    make_bins(df,col,cat,bin_names)\n",
    "    if omitfliers==True:\n",
    "        sns.catplot(y=cat, x=xcol, data=df, kind='box', \n",
    "                    order=bin_names,height=7, aspect=2, \n",
    "                    palette='colorblind', showfliers=False)\n",
    "        plt.xlabel('')\n",
    "        plt.ylabel('')\n",
    "        plt.xticks(ticks=ticks,labels=labels)\n",
    "        plt.title(('Quartiles of {} by {}'\n",
    "                  .format(xlabel,cat)));\n",
    "        if save[0]==True:\n",
    "            plt.savefig(save[1])\n",
    "    else:\n",
    "        sns.catplot(y=cat, x=xcol, data=df, kind='box', \n",
    "                    order=bin_names,height=7, aspect=2, \n",
    "                    palette='colorblind', showfliers=True)\n",
    "        plt.xlabel('')\n",
    "        plt.ylabel('')\n",
    "        plt.xticks(ticks=ticks,labels=labels)\n",
    "        plt.title(('Quartiles of {} by {}'\n",
    "                  .format(xlabel,cat)));\n",
    "        if save[0]==True:\n",
    "            plt.savefig(save[1])"
   ]
  },
  {
   "cell_type": "code",
   "execution_count": null,
   "metadata": {},
   "outputs": [],
   "source": [
    "#Name ratings bins.\n",
    "ratings_bins = ['Highly Reviewed', 'Above Average', \n",
    "                'Average', 'Below Average','Poorly Reviewed']\n",
    "\n",
    "#Create the plot.\n",
    "cat_box(aud_rate, 'averagerating', 'adj_wide_gross', \n",
    "        'Film Quality', 'Global Box Office', \n",
    "        [0,200000000, 400000000, 600000000, \n",
    "         800000000, 1000000000], \n",
    "        ['$0','$200 Million', '$400 Million', \n",
    "         '$600 Million', '$800 Million', '$1 Billion'],\n",
    "        bin_names=ratings_bins, \n",
    "        save=(False,0))"
   ]
  },
  {
   "cell_type": "markdown",
   "metadata": {},
   "source": [
    "Unsurprisingly, highly reviewed films make more in global gross. and because of the bunching of values in the middle of the distribution above average and average films make roughly the same. \n",
    "\n",
    "###### Popular Movies \n",
    "\n",
    "First I'll take a slice of the data for films that have alot of interest. I'll define that as movies that made more than $0 and crossed a threshold of number of voters for the ratings. "
   ]
  },
  {
   "cell_type": "code",
   "execution_count": null,
   "metadata": {
    "scrolled": false
   },
   "outputs": [],
   "source": [
    "#Investigate the distribution of number of votes.\n",
    "plt.title('Distribution of Number of Votes Per Movie')\n",
    "sns.distplot(aud_rate['numvotes'])\n",
    "plt.yticks(ticks=[], labels=[])\n",
    "plt.xlim(0,750000)\n",
    "plt.savefig('figures/distnumvote');\n",
    "print('Mean: '+ str(round(aud_rate['numvotes'].mean(),2)))\n",
    "print('Median: '+ str(round(aud_rate['numvotes'].mean(),2)))\n",
    "print('25% films received at least {} votes.'.format(\n",
    "    str(round(aud_rate['numvotes'].quantile(.75),2))))\n",
    "print('50% films received at least {} votes.'.format(\n",
    "    str(round(aud_rate['numvotes'].quantile(.5),2)))\n",
    "     )\n",
    "print('75% films received at least {} votes.'.format(\n",
    "    str(round(aud_rate['numvotes'].quantile(.25),2)))\n",
    "     )\n",
    "print('90% films received at least {} votes.'.format(\n",
    "    str(round(aud_rate['numvotes'].quantile(.10),2)))\n",
    "     )"
   ]
  },
  {
   "cell_type": "code",
   "execution_count": null,
   "metadata": {
    "scrolled": true
   },
   "outputs": [],
   "source": [
    "#Slice a new dataframe.\n",
    "pop_movies = aud_rate.loc[(aud_rate.loc[:,'numvotes']>=25000) \n",
    "                          &(aud_rate.loc[:,'adj_wide_gross']>0)]\n",
    "\n",
    "print('Mean: '+ str(round(pop_movies['averagerating']\n",
    "                          .mean(),2)))\n",
    "print('Median: '+ str(round(pop_movies['averagerating']\n",
    "                            .median(),2)))\n",
    "print('Max: '+ str(round(pop_movies['averagerating']\n",
    "                         .max(),2)))\n",
    "print('Min: '+ str(round(pop_movies['averagerating']\n",
    "                         .min(),2)))\n",
    "\n",
    "#Plot the data in a scatterplot\n",
    "sns.lmplot(x='averagerating', y='adj_wide_gross', \n",
    "            data=pop_movies, height=4, aspect=2,\n",
    "           line_kws={'color':'black', 'linestyle':':'})\n",
    "plt.yticks(ticks= [500000000, 1000000000, \n",
    "                   1500000000, 2000000000],\n",
    "           labels= ['$500 mil', '$1 bil', '$1.5 bil',\n",
    "                    '$2 bil'])\n",
    "plt.savefig('figures/popqualscat');"
   ]
  },
  {
   "cell_type": "code",
   "execution_count": null,
   "metadata": {
    "scrolled": true
   },
   "outputs": [],
   "source": [
    "cat_box(pop_movies, 'averagerating', 'adj_wide_gross', \n",
    "        'Film Quality', 'Worldwide Box Office', \n",
    "        [0,200000000, 400000000, 600000000, \n",
    "         800000000, 1000000000, 1200000000], \n",
    "        ['$0','$200 Million', '$400 Million', \n",
    "         '$600 Million', '$800 Million', \n",
    "         '$1 Billion', '$1.2 Billion'],\n",
    "        bin_names=ratings_bins,\n",
    "        save=(True, 'figures/popcatbox'))"
   ]
  },
  {
   "cell_type": "markdown",
   "metadata": {},
   "source": [
    "The pattern we saw above is even more apparent with popular films. We can use a threshold of above average ratings to define success."
   ]
  },
  {
   "cell_type": "markdown",
   "metadata": {},
   "source": [
    "# Background Conclusion\n",
    "\n",
    "The movie industry is growing, especially due to the increase in foreign box office returns. To determine success for the remainder of the analysis we will be using the thresholds described above and summarized here.\n",
    "\n",
    "###### Profit\n",
    "\n",
    "- Blockbuster-  > 100 million dollars profit\n",
    "- Hit-          > 10 million dollars profit\n",
    "- Flop-         < 10 million dollars profit\n",
    "- Failure-      < 0 dollars profit\n",
    "\n",
    "###### Quality\n",
    "\n",
    "- Highly Reviewed-  average rating > 7.1\n",
    "- Above Average-    average rating > 6.6\n",
    "- Average-          average rating > 6.1\n",
    "- Below Average-    average rating > 5.4\n",
    "- Poorly Reviewed-  average rating > 1.6\n",
    "\n",
    "\n",
    "\n",
    "# Question 1\n",
    "\n",
    "#### How much money should be invested?\n",
    "##### 1a. Does higher production budget lead to higher rating?\n",
    "##### 1b. Which investment level leads to the highest profits?\n",
    "##### 1c. What amount of risk come with different investment levels?\n",
    "\n",
    "For this analysis I will again be using audience rating, but this time I will also be analyzing profit. Both of these factors will be compared to production costs so I can reccomend a target investment amount per film. "
   ]
  },
  {
   "cell_type": "code",
   "execution_count": null,
   "metadata": {
    "scrolled": true
   },
   "outputs": [],
   "source": [
    "#Slice a new dataframe.\n",
    "costs = movies[['title', 'profit', \n",
    "                'averagerating', 'adj_prod_budg', \n",
    "                'adj_wide_gross']].groupby('title').mean()\n",
    "\n",
    "sns.distplot(costs['adj_prod_budg'])\n",
    "plt.yticks(ticks=[], labels=[])\n",
    "plt.xticks(ticks=[0, 100000000, 200000000],\n",
    "           labels=['$0', '$100 mil', '$200 mil'])\n",
    "plt.xlabel('Production Budget')\n",
    "plt.xlim(0,250000000)\n",
    "plt.title('Distribution of Costs')\n",
    "plt.savefig('figures/distcosts.png');\n",
    "print('Mean: '+ str(round(costs['adj_prod_budg'].mean(),2)))\n",
    "print('Median: '+ str(round(costs['adj_prod_budg'].median(),2)))"
   ]
  },
  {
   "cell_type": "markdown",
   "metadata": {},
   "source": [
    "As with above it will be useful to divide these into categories to make analysis more comprehensible."
   ]
  },
  {
   "cell_type": "code",
   "execution_count": null,
   "metadata": {},
   "outputs": [],
   "source": [
    "quant1 = round(costs['adj_prod_budg'].quantile(.8),2)\n",
    "quant2 = round(costs['adj_prod_budg'].quantile(.6),2)\n",
    "quant3 = round(costs['adj_prod_budg'].quantile(.4),2)\n",
    "quant4 = round(costs['adj_prod_budg'].quantile(.2),2)\n",
    "\n",
    "print('The top 20% of movies by cost spend at least ${}'\n",
    "      .format(quant1))\n",
    "print('The top 40% of movies by cost spend at least ${}'\n",
    "      .format(quant2))\n",
    "print('The top 60% of movies by cost spend at least ${}'\n",
    "      .format(quant3))\n",
    "print('The top 80% of movies by cost spend at least ${}'\n",
    "      .format(quant4))"
   ]
  },
  {
   "cell_type": "markdown",
   "metadata": {},
   "source": [
    "We now have five different levels of cost that we can use to categorize data. We can name them 'Huge', 'Big, 'Average', 'Small', and 'Tiny'."
   ]
  },
  {
   "cell_type": "code",
   "execution_count": null,
   "metadata": {},
   "outputs": [],
   "source": [
    "cost_bins = ['Huge', 'Big', 'Average', 'Small', 'Tiny']"
   ]
  },
  {
   "cell_type": "markdown",
   "metadata": {},
   "source": [
    "### Question 1a\n",
    "\n",
    "When it comes to production budget, does spending more lead to a higher quality movie? To answer this I'll do a simple scatter plot and observe the distibution of the values:"
   ]
  },
  {
   "cell_type": "code",
   "execution_count": null,
   "metadata": {
    "scrolled": true
   },
   "outputs": [],
   "source": [
    "sns.regplot(y='adj_prod_budg', x='averagerating', data=costs,\n",
    "           line_kws={'color':'black', 'linestyle':':'})\n",
    "plt.xticks(ticks=[3,5,7,9], labels=[3,5,7,9])\n",
    "plt.xlabel('Average Rating')\n",
    "plt.yticks(ticks=[0, 100000000, 200000000, 400000000,\n",
    "                 600000000],\n",
    "           labels=['$0', '$100 mil', '$200 mil', '$400 mil',\n",
    "                  '$600 mil'])\n",
    "plt.ylabel('Production Budget')\n",
    "plt.title('Costs by Average Rating')\n",
    "plt.savefig('figures/scatcostsVrate.png');"
   ]
  },
  {
   "cell_type": "markdown",
   "metadata": {},
   "source": [
    "There seems to be a slight positive correlation. Now I'll look at how the data looks in categorical form:"
   ]
  },
  {
   "cell_type": "code",
   "execution_count": null,
   "metadata": {},
   "outputs": [],
   "source": [
    "cat_box(costs, 'adj_prod_budg', 'averagerating', \n",
    "        'Budget Levels', 'Average Audience Rating',\n",
    "        [3,5,7,9],[3,5,7,9], bin_names=cost_bins, \n",
    "        save=(True,'figures/boxrateOFcost.png'))"
   ]
  },
  {
   "cell_type": "markdown",
   "metadata": {},
   "source": [
    "So, investment in any budget range can result in a high quality film. Looking at the left whiskers of the boxes though, it seems that huge bugdets may be a more reliable investment.\n",
    "\n",
    "### Question 1b\n",
    "\n",
    "Is it better to release several films with a given budget or throw it all into one big blockbuster? To answer this I'll assess the scatter plot of production budget by profit:"
   ]
  },
  {
   "cell_type": "code",
   "execution_count": null,
   "metadata": {
    "scrolled": false
   },
   "outputs": [],
   "source": [
    "sns.lmplot(y='adj_prod_budg', x='profit', data=costs,\n",
    "           height=4, aspect=1.5, \n",
    "           line_kws={'color':'black', 'linestyle':':'})\n",
    "plt.yticks(ticks=[0, 200000000, 400000000, 600000000],\n",
    "           labels=['$0', '$200 mil', '$400 mil', '$600 mil'])\n",
    "plt.xticks(ticks=[0, 2500000000],\n",
    "           labels=['$0', '$2.5 bil'])\n",
    "plt.xlim(-100000000,2500000000)\n",
    "plt.ylim(0,600000000)\n",
    "plt.title('Costs by Profit')\n",
    "plt.ylabel('Production Budget')\n",
    "plt.xlabel('Profit')\n",
    "plt.savefig('figures/scatcostsVprofit.png');"
   ]
  },
  {
   "cell_type": "markdown",
   "metadata": {},
   "source": [
    "The scatterplot indicates that there is a positive correlation, let's take a look at the data catagorically:"
   ]
  },
  {
   "cell_type": "code",
   "execution_count": null,
   "metadata": {
    "scrolled": true
   },
   "outputs": [],
   "source": [
    "cat_box(costs, 'adj_prod_budg', 'profit', 'Budget Level',\n",
    "        'Profit', [1000000000, 2000000000],\n",
    "        ['$1bil', '$2bil'], bin_names=cost_bins,\n",
    "       save=(True,'figures/boxprofitBybudg.png'))"
   ]
  },
  {
   "cell_type": "markdown",
   "metadata": {},
   "source": [
    "### Question 1c\n",
    "\n",
    "To understand the risks associated with a film I'll calculate the expected return on investment of a film."
   ]
  },
  {
   "cell_type": "code",
   "execution_count": null,
   "metadata": {},
   "outputs": [],
   "source": [
    "costs['roi']= (costs['adj_wide_gross']/costs['adj_prod_budg'])\n",
    "\n",
    "sns.relplot(x='adj_prod_budg', y='roi', data= costs);\n",
    "\n",
    "cat_box(costs, 'adj_prod_budg', 'roi', 'Budget Level', \n",
    "        'Return on Investment', [0, 2, 4, 6, 8, 10, 12],\n",
    "        ['0%', '200%', '400%', '600%', '800%', '1000%',\n",
    "        '1200%'],\n",
    "        bin_names=cost_bins, \n",
    "        save=(True,'figures/boxroiBYcostnofliers.png'))"
   ]
  },
  {
   "cell_type": "markdown",
   "metadata": {},
   "source": [
    "Taken together these two plots tell a strange story. Because of the small budgets involved it seems like some outliers are skewing the data for small budget films. Let's remove outliers from the boxplot."
   ]
  },
  {
   "cell_type": "code",
   "execution_count": null,
   "metadata": {
    "scrolled": true
   },
   "outputs": [],
   "source": [
    "cat_box(costs, 'adj_prod_budg', 'roi', 'Budget Level', \n",
    "        'Return on Investment', [0, 200, 400],\n",
    "        ['0%', '20000%', '40000%'],\n",
    "        bin_names=cost_bins, \n",
    "        save=(True,'figures/boxroiBYcostWithfliers.png'),\n",
    "        omitfliers=False)"
   ]
  },
  {
   "cell_type": "markdown",
   "metadata": {},
   "source": [
    "Using return on investment won't be an effective measure of success because of these outliers. I'll use profit to calculate expected profit."
   ]
  },
  {
   "cell_type": "code",
   "execution_count": null,
   "metadata": {
    "scrolled": false
   },
   "outputs": [],
   "source": [
    "def simple_successdf(df,group, measure, threshold):\n",
    "    \"\"\"Create a dataframe containing success and failure\n",
    "    rate given a threshold for success.\"\"\"\n",
    "    df.loc[df[measure]> threshold, 'success']=True\n",
    "    df.loc[df[measure]<= threshold, 'success']=False\n",
    "    df['count']=1\n",
    "    successdf = (df[['success', group, 'count']]\n",
    "                 .groupby(group).sum())\n",
    "    successdf['winrate'] = round(successdf['success']\n",
    "                                 /successdf['count'],2)\n",
    "    successdf['lossrate'] = 1 - successdf['winrate']\n",
    "    \n",
    "#Add columns for the graph.\n",
    "    successdf['bin']=sorted(df[group].unique())\n",
    "    successdf['total']=(successdf['winrate']\n",
    "                        +successdf['lossrate'])\n",
    "    successdf.sort_values('winrate', axis=0, \n",
    "                          ascending=False, inplace=True)\n",
    "    return successdf\n",
    "\n",
    "def simple_rate(df,group,bin_label, measure, threshold,\n",
    "               save=(False,0)):\n",
    "    \"\"\"Draw a plot of success rate given a particular\n",
    "    threshold.\"\"\"\n",
    "    successdf = simple_successdf(df,group, measure, threshold)\n",
    "    print('Overall Success Rate is: {}'\n",
    "          .format(round(df['success'].sum()/\n",
    "                        df['count'].sum(),2)))\n",
    "    display(successdf[['winrate','lossrate']])\n",
    "\n",
    "    f, ax = plt.subplots(figsize=(14, 7))\n",
    "\n",
    "    sns.set_color_codes('colorblind')\n",
    "    sns.barplot(x='total', y='bin', data=successdf,\n",
    "                label='Failure', color='r')\n",
    "\n",
    "    sns.barplot(x='winrate', y='bin', data=successdf,\n",
    "                label='Success', color='g')\n",
    "\n",
    "    ax.legend(ncol=2, loc='upper center', frameon=True, \n",
    "              framealpha=1, fontsize='small')\n",
    "    ax.set_title('% of Films Making Over ${} Profit By {}'\n",
    "                 .format(threshold, bin_label))\n",
    "    ax.set(ylabel='', xlabel='')\n",
    "    ax.set_xlim(right=1)\n",
    "    ax.set_xticks(ticks=[.2, .4, .6, .8, 1])\n",
    "    ax.set_xticklabels(labels=['20%', '40%', '60%', \n",
    "                               '80%', '100%']);\n",
    "    sns.despine(top=True, right=True, bottom=True)\n",
    "    if save[0]==True:\n",
    "        plt.savefig(save[1])"
   ]
  },
  {
   "cell_type": "markdown",
   "metadata": {},
   "source": [
    "First I'll calculate details for movies that atleast made money."
   ]
  },
  {
   "cell_type": "code",
   "execution_count": null,
   "metadata": {},
   "outputs": [],
   "source": [
    "simple_rate(costs,'Budget Level','Budget Level', \n",
    "            'profit', 0, save=(True, 'figures/profitovr0.png'))"
   ]
  },
  {
   "cell_type": "markdown",
   "metadata": {},
   "source": [
    "Next, let's check the success rate for movies making more than 10 million dollars."
   ]
  },
  {
   "cell_type": "code",
   "execution_count": null,
   "metadata": {},
   "outputs": [],
   "source": [
    "simple_rate(costs,'Budget Level','Budget Level', \n",
    "            'profit', 15000000, \n",
    "            save=(True, 'figures/profitovr15.png'))"
   ]
  },
  {
   "cell_type": "code",
   "execution_count": null,
   "metadata": {},
   "outputs": [],
   "source": [
    "def tiered_successdf(df,group):\n",
    "    \"\"\"Create a dataframe for success by profit tier.\"\"\"\n",
    "    df['count']=1\n",
    "    \n",
    "#Create columns that track success.\n",
    "    df.loc[df.loc[:,'profit']\n",
    "            >= 100000000, 'BB']=True\n",
    "    df.loc[(df.loc[:,'profit']\n",
    "            >= 10000000)\n",
    "            &(df.loc[:,'profit']\n",
    "            <100000000), 'HT']=True\n",
    "    df.loc[(df.loc[:,'profit']\n",
    "            > 0)\n",
    "            &(df.loc[:,'profit']\n",
    "            <10000000), 'FP']=True\n",
    "    df.loc[df.loc[:,'profit']\n",
    "            <= 0, 'FL']=True\n",
    "    df.fillna(False, inplace=True)\n",
    "        \n",
    "#Create columns with a rate of each success level.\n",
    "    successdf = (df[['BB', 'HT', 'FP', \n",
    "                    'FL', group, 'count']]\n",
    "                    .groupby(group).sum())\n",
    "    successdf['blockrate'] = round(successdf['BB']\n",
    "                                   /successdf['count'],2)\n",
    "    successdf['hitrate'] = round(successdf['HT']\n",
    "                                    /successdf['count'],2)\n",
    "    successdf['floprate'] = round(successdf['FP']\n",
    "                                    /successdf['count'],2)\n",
    "    successdf['failrate'] = round(successdf['FL']\n",
    "                                    /successdf['count'],2)\n",
    "    \n",
    "#Add columns for the graph.\n",
    "    successdf['bin']=sorted(df[group].unique())\n",
    "    successdf['fail']= 1\n",
    "    successdf['flop']= (successdf.loc[:,'hitrate']\n",
    "                        +successdf.loc[:,'floprate']\n",
    "                        +successdf.loc[:,'blockrate'])\n",
    "    successdf['hit']= (successdf.loc[:,'hitrate']\n",
    "                        +successdf.loc[:,'blockrate'])\n",
    "    successdf['block']= successdf.loc[:,'blockrate']\n",
    "    successdf.sort_values('blockrate', axis=0, \n",
    "                            ascending=False, inplace=True)\n",
    "    return successdf\n",
    "\n",
    "def tiered_rates(df,group,bin_label, save=(False,None)):\n",
    "    \"\"\"Draw a plot of tiered success dataframe.\"\"\"\n",
    "    successdf = tiered_successdf(df,group)\n",
    "\n",
    "    f, ax = plt.subplots(figsize=(14, 7))\n",
    "\n",
    "    sns.set_color_codes('colorblind')\n",
    "    sns.barplot(x='fail', y='bin', data=successdf,\n",
    "                label='Failure', color='r')\n",
    "    \n",
    "    sns.barplot(x='flop', y='bin', data=successdf,\n",
    "                label='Flop', color='orange')\n",
    "    \n",
    "    sns.barplot(x='hit', y='bin', data=successdf,\n",
    "                label='Hit', color='b')\n",
    "\n",
    "    sns.barplot(x='block', y='bin', data=successdf,\n",
    "                label='Blockbuster', color='g')\n",
    "    \n",
    "    ax.set_title('Profit Outcomes by {}'.format(bin_label))\n",
    "    ax.set_xlim(right=1)\n",
    "    ax.legend(ncol=4, loc='upper center', \n",
    "              frameon=True, framealpha=1, fontsize='x-small')\n",
    "    ax.set(ylabel='', xlabel='')\n",
    "    ax.set_xticks(ticks=[.2, .4, .6, .8, 1])\n",
    "    ax.set_xticklabels(labels=['20%', '40%', '60%', \n",
    "                               '80%', '100%']);\n",
    "    sns.despine(top=True, right=True, bottom=True)\n",
    "    if save[0]==True:\n",
    "        plt.savefig(save[1])"
   ]
  },
  {
   "cell_type": "markdown",
   "metadata": {},
   "source": [
    "Now I can analyze budget levels using the tiered rates."
   ]
  },
  {
   "cell_type": "code",
   "execution_count": null,
   "metadata": {},
   "outputs": [],
   "source": [
    "tiered_rates(costs, 'Budget Level', 'Budget Level',\n",
    "            save=(True,'figures/tierBYbudg.png'))"
   ]
  },
  {
   "cell_type": "markdown",
   "metadata": {},
   "source": [
    "To understand the amount of risk best I'll calculate expected profits by multiplying median loss and gain with the simple % chance that kind of movie made or lost money. "
   ]
  },
  {
   "cell_type": "code",
   "execution_count": null,
   "metadata": {
    "scrolled": true
   },
   "outputs": [],
   "source": [
    "def calculate_expected(df, group, bin_label, show_rates=True,\n",
    "                      save=(False,None)):\n",
    "    \"\"\"Draw a plot of expected profit.\n",
    "    \n",
    "    kwargs=\n",
    "    showrates= boolean. if True also shows simplerate function\n",
    "    output with $0 threshold. default True\"\"\"\n",
    "    if show_rates==True:\n",
    "        simple_rate(df,group,bin_label, 'profit', 0)\n",
    "\n",
    "    successdf = simple_successdf(df,group, 'profit', 0)\n",
    "\n",
    "#Create failed movies and successful movies dataframes.\n",
    "    losers = df[df['profit']<=0].groupby(group).median()\n",
    "    winners = df[df['profit']>0].groupby(group).median()\n",
    "    successdf['medl']=losers['profit']\n",
    "    successdf['medp']=winners['profit']\n",
    "    \n",
    "#Weight the losses and successes by their liklihood.\n",
    "    successdf['expectedprofit']=((successdf['medl']\n",
    "                                 *successdf['lossrate'])\n",
    "                                 +(successdf['medp']\n",
    "                                   *successdf['winrate']))\n",
    "    successdf.sort_values('expectedprofit', axis=0, \n",
    "                          inplace=True, ascending=False)\n",
    "    display(successdf[['winrate','lossrate',\n",
    "                       'expectedprofit']])\n",
    "    \n",
    "#Draw the barplot.\n",
    "    fig, ax2 = plt.subplots(figsize=(14, 7))\n",
    "    sns.barplot(y='bin', x='expectedprofit', \n",
    "                data=successdf, ax=ax2, palette='colorblind')\n",
    "    sns.despine(top=True, right=True)\n",
    "    ax2.set_title('Expected Profit by {}'.format(bin_label))\n",
    "    ax2.set(ylabel='', xlabel='')\n",
    "    ax2.set_xticks(ticks=[25000000, 75000000, \n",
    "                          125000000, 175000000, 225000000])\n",
    "    ax2.set_xticklabels(labels=['$25 Million', '$75 Million', \n",
    "                                '$125 Million', '$175 Million',\n",
    "                                '$225 Million']);\n",
    "    if save[0]==True:\n",
    "        plt.savefig(save[1])"
   ]
  },
  {
   "cell_type": "code",
   "execution_count": null,
   "metadata": {
    "scrolled": true
   },
   "outputs": [],
   "source": [
    "calculate_expected(costs, 'Budget Level', 'Budget Level', \n",
    "                   show_rates=False, \n",
    "                   save=(True,'figures/expbybudgt.png'))"
   ]
  },
  {
   "cell_type": "markdown",
   "metadata": {},
   "source": [
    "# Question 1 Conclusion\n",
    "\n",
    "The budget level with the highest potential for profit is huge, somewhat counterintuitively it also has the lowest risk. Aside from a few outliers in the smaller budget categories this holds true for return on investment. \n",
    "\n",
    "Finally, over the course of many films blockbusters provide the highest expected profit by far. Given the potential risks of failure however, and the fact that big budget films still perform fairly well, my recommendation is that we invest in films with production budgets no less than $50 million dollars. "
   ]
  },
  {
   "cell_type": "markdown",
   "metadata": {},
   "source": [
    "# Question 2\n",
    "\n",
    "#### What kind of films should we produce?\n",
    "- Once we know what kind of film, when should we release it?\n",
    "\n",
    "Now our analysis will shift to analysing genre. Because of the fact that a film can have more than one genre the sample size will be expanded. I can split each film into an entry for each genre that it represents."
   ]
  },
  {
   "cell_type": "code",
   "execution_count": null,
   "metadata": {
    "scrolled": true
   },
   "outputs": [],
   "source": [
    "#Split the genre entry into a list of strings.\n",
    "genre_data = []\n",
    "for genres in movies['genres']:\n",
    "    genre_data.append(genres.replace(',',' ').split())\n",
    "\n",
    "#Create three lists with the 1st, 2nd, and 3rd genre.\n",
    "genre1 = []\n",
    "genre2 = []\n",
    "genre3 = []\n",
    "for index in range(0, len(genre_data)):\n",
    "    if len(genre_data[index])==3:\n",
    "        genre1.append(genre_data[index][0])\n",
    "        genre2.append(genre_data[index][1])\n",
    "        genre3.append(genre_data[index][2])\n",
    "    elif len(genre_data[index])==2:\n",
    "        genre1.append(genre_data[index][0])\n",
    "        genre2.append(genre_data[index][1])\n",
    "        genre3.append('None')\n",
    "    else:\n",
    "        genre1.append(genre_data[index][0])\n",
    "        genre2.append('None')\n",
    "        genre3.append('None')\n",
    "\n",
    "#Assign each list to a column and drop the original column.        \n",
    "movies['genre1'] = genre1\n",
    "movies['genre2'] = genre2\n",
    "movies['genre3'] = genre3\n",
    "movies.drop('genres', axis=1, inplace=True)\n",
    "\n",
    "#Slice the data we need into three separate dataframes.\n",
    "genre1df = movies.loc[:,['genre1', 'profit', 'month', \n",
    "                         'adj_prod_budg', 'title', \n",
    "                         'adj_dom_gross', \n",
    "                         'adj_frn_gross', 'adj_wide_gross']]\n",
    "genre2df = movies.loc[:,['genre2', 'profit', 'month', \n",
    "                         'adj_prod_budg', 'title', \n",
    "                         'adj_dom_gross', \n",
    "                         'adj_frn_gross', 'adj_wide_gross']]\n",
    "genre3df = movies.loc[:,['genre3', 'profit', 'month', \n",
    "                         'adj_prod_budg', 'title', \n",
    "                         'adj_dom_gross', \n",
    "                         'adj_frn_gross', 'adj_wide_gross']]\n",
    "\n",
    "#Rename the genre columns. \n",
    "genre1df.rename(columns={'genre1':'genre'}, inplace=True)\n",
    "genre2df.rename(columns={'genre2':'genre'}, inplace=True)\n",
    "genre3df.rename(columns={'genre3':'genre'}, inplace=True)\n",
    "\n",
    "#Concatenate the dataframes and slice the None values away.\n",
    "genre = pd.concat([genre1df,genre2df,genre3df], sort=False)\n",
    "genre = genre[genre['genre']!='None']\n",
    "\n",
    "#Drop the duplicated rows.\n",
    "genre = genre.drop_duplicates()\n",
    "\n",
    "display(genre.head())\n",
    "print('\\n There are {} unique genres. They are:'\n",
    "      .format(genre['genre'].nunique()))\n",
    "display(genre['genre'].unique())"
   ]
  },
  {
   "cell_type": "code",
   "execution_count": null,
   "metadata": {
    "scrolled": false
   },
   "outputs": [],
   "source": [
    "genre['genre'].value_counts()"
   ]
  },
  {
   "cell_type": "markdown",
   "metadata": {},
   "source": [
    "With so many genres we may have trouble digesting the data. We can use our judgment to combine some genres together. To get down to 16 genres we can:"
   ]
  },
  {
   "cell_type": "code",
   "execution_count": null,
   "metadata": {
    "scrolled": true
   },
   "outputs": [],
   "source": [
    "#Drop 'news' because there are so few entries.\n",
    "genre.drop(genre[genre['genre']=='News'].index, inplace=True)\n",
    "\n",
    "#Rename Western into Adventure.\n",
    "genre.loc[genre['genre']=='Western', 'genre']='Adventure'\n",
    "\n",
    "#Rename War to History.\n",
    "genre.loc[genre['genre']=='War', 'genre']='History'\n",
    "\n",
    "#Combine Mystery and Crime into Crime/Mystery.\n",
    "genre.loc[genre['genre']=='Mystery', 'genre']='Crime/Mystery'\n",
    "genre.loc[genre['genre']=='Crime', 'genre']='Crime/Mystery'\n",
    "\n",
    "#Combine Musical and Music into Musical/Music.\n",
    "genre.loc[genre['genre']=='Musical', 'genre']='Musical/Music'\n",
    "genre.loc[genre['genre']=='Music', 'genre']='Musical/Music'\n",
    "\n",
    "#Combine History and Biography into History/Biography.\n",
    "genre.loc[genre['genre']=='History', \n",
    "          'genre']='History/Biography'\n",
    "genre.loc[genre['genre']=='Biography', \n",
    "          'genre']='History/Biography'\n",
    "\n",
    "genre['genre'].value_counts()"
   ]
  },
  {
   "cell_type": "code",
   "execution_count": null,
   "metadata": {
    "scrolled": false
   },
   "outputs": [],
   "source": [
    "sns.catplot(y='genre', x='profit', data=genre, \n",
    "            palette='colorblind', kind='box', \n",
    "            height=7, aspect=1.9, showfliers=False)\n",
    "plt.title('Profit by Genre')\n",
    "plt.ylabel('')\n",
    "plt.xlabel('')\n",
    "plt.xticks(ticks=[-250000000, 0, 250000000, \n",
    "                     500000000, 750000000, 1000000000],\n",
    "           labels=['-$250 Million', '$0', '$250 Million', \n",
    "                   '$500 Million', '$750 Million', \n",
    "                   '$1 Billion']);\n",
    "plt.savefig('figures/boxprofitBYgenre.png')"
   ]
  },
  {
   "cell_type": "code",
   "execution_count": null,
   "metadata": {},
   "outputs": [],
   "source": [
    "sns.catplot(y='genre', x='adj_prod_budg', data=genre, \n",
    "            palette='colorblind', kind='box', \n",
    "            height=7, aspect=1.9, showfliers=False)\n",
    "plt.title('Production Cost by Genre')\n",
    "plt.ylabel('')\n",
    "plt.xlabel('')\n",
    "plt.xticks(ticks=[0, 100000000, 200000000, \n",
    "                  300000000, 400000000, 500000000],\n",
    "           labels=['$0', '$100 Million', '$200 Million',\n",
    "                   '$300 Million', '$400 Million', \n",
    "                   '$500 Million']);\n",
    "plt.savefig('figures/boxcostBYgenre.png')"
   ]
  },
  {
   "cell_type": "markdown",
   "metadata": {},
   "source": [
    "This gives an idea of what genres of movies perform well, as well as their average production budgets. Interestingly, animated and adventure movies stand out in both charts. \n",
    "\n",
    "As we saw above, performing well in foreign markets is crucial for a successful movie. So, I'll compare success of genres in domestic and foreign markets."
   ]
  },
  {
   "cell_type": "code",
   "execution_count": null,
   "metadata": {
    "scrolled": true
   },
   "outputs": [],
   "source": [
    "#Calculate profits that come from foreign markets.\n",
    "genre['Genre']=genre['genre']\n",
    "genre_grouped = genre.groupby('Genre').mean()\n",
    "genre_grouped['genre']= sorted(genre['genre'].unique())\n",
    "genre_grouped['prop_frn'] = (genre_grouped['adj_frn_gross']\n",
    "                             /genre_grouped['adj_wide_gross'])\n",
    "genre_grouped.sort_values('prop_frn', inplace=True,\n",
    "                         ascending=False)\n",
    "sns.catplot(y='genre', x='prop_frn', data=genre_grouped, \n",
    "            kind='bar', height=6, aspect=2, \n",
    "            palette='colorblind')\n",
    "plt.xticks(ticks=[.45,.5,.55,.6,.65],\n",
    "           labels=['~45%','50%','55%',\n",
    "                   '60%','65%'])\n",
    "plt.title('Proportion of Gross from Foreign Markets by Genre')\n",
    "plt.xlabel('')\n",
    "plt.ylabel('')\n",
    "plt.xlim(.45,.65)\n",
    "plt.savefig('figures/propfrnGenre.png');"
   ]
  },
  {
   "cell_type": "markdown",
   "metadata": {},
   "source": [
    "###### success rate"
   ]
  },
  {
   "cell_type": "code",
   "execution_count": null,
   "metadata": {},
   "outputs": [],
   "source": [
    "tiered_rates(genre, 'genre', 'Genre', \n",
    "             save=(True,'figures/profitoutcomesgenre'))"
   ]
  },
  {
   "cell_type": "markdown",
   "metadata": {},
   "source": [
    "#### Expected Profit"
   ]
  },
  {
   "cell_type": "code",
   "execution_count": null,
   "metadata": {
    "scrolled": false
   },
   "outputs": [],
   "source": [
    "calculate_expected(genre, 'genre', 'Genre',\n",
    "                  save=(True,'figures/expectedprofitgenre.png'))"
   ]
  },
  {
   "cell_type": "markdown",
   "metadata": {},
   "source": [
    "# Question 2 Conclusion\n",
    "\n",
    "There are eight genres that have an above average success rate (Animation, Adventure, Sci-Fi, Action, Fantasy, Family, Comedy, Romance). Of those eight, six have an expected profit above 50 million dollars (Animation, Adventure, Sci-Fi, Action, Fantasy, Family). Of those six, three have an expected profit above 100 million dollars (Animation, Adventure, Sci-Fi). \n",
    "\n",
    "My reccomendation is to invest in films from those top six genres, and preferably the top 3. In addition to having the highest expected profits, these genres also rank in the top 6 for production costs, which we already saw is correlated with success.  "
   ]
  },
  {
   "cell_type": "markdown",
   "metadata": {},
   "source": [
    "# Question 3\n",
    "\n",
    "##### When should we release the film?\n",
    "\n",
    "To know when we should release a film we can analyze the month by month data. I'll split it into four seasons to compare which season is the best to release films overall. Then I'll zoom in to focus only on those films that satisfy the previously observed optimal conditions: \n",
    "1)having a production cost of over 50 million dollars and \n",
    "2)being of the Animation, Adventure, Sci-Fi, Action, Fantasy, or Family genres."
   ]
  },
  {
   "cell_type": "code",
   "execution_count": null,
   "metadata": {},
   "outputs": [],
   "source": [
    "genre.loc[(genre['month']=='Jun')|\n",
    "      (genre['month']=='Jul')|\n",
    "      (genre['month']=='Aug'), 'season']='Summer'\n",
    "genre.loc[(genre['month']=='Sep')|\n",
    "      (genre['month']=='Oct')|\n",
    "      (genre['month']=='Nov'), 'season']='Fall'\n",
    "genre.loc[(genre['month']=='Dec')|\n",
    "      (genre['month']=='Jan')|\n",
    "      (genre['month']=='Feb'), 'season']='Winter'\n",
    "genre.loc[(genre['month']=='Mar')|\n",
    "          (genre['month']=='Apr')|\n",
    "          (genre['month']=='May'), 'season']= 'Spring'"
   ]
  },
  {
   "cell_type": "markdown",
   "metadata": {},
   "source": [
    "##### Analyze seasonal breakdown"
   ]
  },
  {
   "cell_type": "code",
   "execution_count": null,
   "metadata": {},
   "outputs": [],
   "source": [
    "tiered_rates(genre, 'season', 'Season', \n",
    "             save=(True,'figures/tieredseasons.png'))"
   ]
  },
  {
   "cell_type": "code",
   "execution_count": null,
   "metadata": {
    "scrolled": true
   },
   "outputs": [],
   "source": [
    "calculate_expected(genre, 'season', 'Season', show_rates=True)"
   ]
  },
  {
   "cell_type": "markdown",
   "metadata": {},
   "source": [
    "##### Analyze Seasonal breakdown of target subgroup"
   ]
  },
  {
   "cell_type": "code",
   "execution_count": null,
   "metadata": {},
   "outputs": [],
   "source": [
    "#Isolate films with target budgets\n",
    "target = genre[genre['adj_prod_budg']>50000000]\n",
    "\n",
    "#Isolate films with target genres\n",
    "target = target[(target['genre']=='Animation')|\n",
    "                (target['genre']=='Adventure')|\n",
    "                (target['genre']=='Sci-Fi')|\n",
    "                (target['genre']=='Action')|\n",
    "                (target['genre']=='Fantasy')|\n",
    "                (target['genre']=='Family')]\n",
    "\n",
    "print('There are '+str(target['title']\n",
    "                       .nunique())\n",
    "      +' films in the target subgroup') "
   ]
  },
  {
   "cell_type": "code",
   "execution_count": null,
   "metadata": {
    "scrolled": true
   },
   "outputs": [],
   "source": [
    "tiered_rates(target, 'season', 'Season',\n",
    "            save=(True, 'figures/tiertargetseasons.png'))"
   ]
  },
  {
   "cell_type": "code",
   "execution_count": null,
   "metadata": {},
   "outputs": [],
   "source": [
    "calculate_expected(target, 'season', 'Season',show_rates=True,\n",
    "                  save=(True, 'figures/expseasons.png' ))"
   ]
  },
  {
   "cell_type": "markdown",
   "metadata": {},
   "source": [
    "# Question 3 Conclusion\n",
    "\n",
    "Judging by the output of the analysis, it seems the best time to release the recommended types of films is the Spring or Summer.\n",
    "\n",
    "# Question 4\n",
    "\n",
    "#### Who should we hire?\n",
    "\n",
    "We'll start to analyze this question by exploring the data on movie professionals. Then, we'll slice the data to find a top 10 list for particular roles for the kind of movie we want to make."
   ]
  },
  {
   "cell_type": "code",
   "execution_count": null,
   "metadata": {},
   "outputs": [],
   "source": [
    "#Check how many roles exist in the dataset\n",
    "movies['category'].value_counts()"
   ]
  },
  {
   "cell_type": "markdown",
   "metadata": {},
   "source": [
    "I'll analyze data for actors, actresses, director, producers, and writers.\n",
    "\n",
    "To narrow down the most successful people I'll slice away anyone with that has passed away. \n",
    "\n",
    "Then, I'll slice only people who's movies have performed in the 'successful' range. To do that I'll group the dataframe by people's names, gathering the total boxoffice and average rating. \n",
    "\n",
    "Then I'll filter out people whose films have rated below the threshold for success, 6.3.\n",
    "\n",
    "Finally, I'll take the top 10 people sorted by total profit and plot their numbers on a scatterplot showing their average audience rating. The size of the plot point shows their average film profit.  "
   ]
  },
  {
   "cell_type": "code",
   "execution_count": null,
   "metadata": {},
   "outputs": [],
   "source": [
    "def slice_role(role, color, save=(False,None)):\n",
    "    \"\"\"Draw a plot of top ten people in a role in a particular\n",
    "    color\n",
    "    \n",
    "    kwargs=\n",
    "    save= (boolean,filename) if true save the plot to the\n",
    "    filename. default False\"\"\"\n",
    "    temp = movies[(movies['category']==role) \n",
    "                  & (movies['status']=='Working')]\n",
    "     \n",
    "#Create a dataframe with total box office per person.\n",
    "    grouped = temp.groupby('primary_name').sum()\n",
    "    \n",
    "#Create average rating and profit columns to compare people.\n",
    "    grouped['averagerating']=(temp.groupby('primary_name')\n",
    "                              .mean()['averagerating'])\n",
    "    grouped['averageprofit']=(temp.groupby('primary_name')\n",
    "                              .mean()['profit'])\n",
    "    \n",
    "#Create a column to store people's names for the plot.    \n",
    "    grouped[role] = sorted(temp['primary_name'].unique())\n",
    "    \n",
    "#Filter people whose average films have been 'successful'.    \n",
    "    grouped = grouped.loc[grouped.loc[:,'averageprofit']\n",
    "                          >10000000]\n",
    "    grouped = grouped.loc[grouped.loc[:,'averagerating']\n",
    "                          >6.3]\n",
    "    \n",
    "#Sort by profit and slice the top 10.\n",
    "    grouped.sort_values('profit', axis=0, \n",
    "                        inplace=True, ascending=False)\n",
    "    grouped = grouped[:10]\n",
    "    grouped.sort_values('profit', axis=0, inplace=True)\n",
    "\n",
    "#Plot the results.\n",
    "    sns.relplot(y=role, x='averagerating', \n",
    "                size='averageprofit', sizes=(50,1500), \n",
    "                data=grouped, height=7, aspect=1.9, \n",
    "                color=color, legend=False)\n",
    "    plt.title(('10 Most Profitable {}s'\n",
    "               .format(role)).title())\n",
    "    plt.xticks(ticks=[6,6.5,7,7.5,8,8.5,9], \n",
    "               labels=[6,6.5,7,7.5,8,8.5,9])\n",
    "    plt.ylabel('')\n",
    "    plt.xlabel('Average Film Rating')\n",
    "    plt.xlim((6,9))\n",
    "    if save[0]==True:\n",
    "        plt.savefig(save[1])"
   ]
  },
  {
   "cell_type": "code",
   "execution_count": null,
   "metadata": {
    "scrolled": false
   },
   "outputs": [],
   "source": [
    "slice_role('actor','green', \n",
    "           save=(True, 'figures/actors.png')),\n",
    "slice_role('actress','purple',\n",
    "            save=(True, 'figures/acttresss.png')),\n",
    "slice_role('director','blue',\n",
    "           save=(True, 'figures/directors.png')), \n",
    "slice_role('writer', 'darkred',\n",
    "           save=(True, 'figures/writers.png')),\n",
    "slice_role('producer','gold',\n",
    "           save=(True, 'figures/producers.png'))"
   ]
  },
  {
   "cell_type": "markdown",
   "metadata": {},
   "source": [
    "# Question 4 Conclusion\n",
    "\n",
    "Due to systemic biases it is important to note that the use of historical data should not be the only factor we use to hire cast and crew for a film. Although I can use the data to make a reccomendation, it is also important to recommend that we seek out diverse viewpoints and perspectives. This analysis is limited by the data it uses to automatically include historical biases that influence who has created successful films.  "
   ]
  },
  {
   "cell_type": "code",
   "execution_count": null,
   "metadata": {},
   "outputs": [],
   "source": []
  }
 ],
 "metadata": {
  "kernelspec": {
   "display_name": "learn-env",
   "language": "python",
   "name": "learn-env"
  },
  "language_info": {
   "codemirror_mode": {
    "name": "ipython",
    "version": 3
   },
   "file_extension": ".py",
   "mimetype": "text/x-python",
   "name": "python",
   "nbconvert_exporter": "python",
   "pygments_lexer": "ipython3",
   "version": "3.7.4"
  }
 },
 "nbformat": 4,
 "nbformat_minor": 2
}
