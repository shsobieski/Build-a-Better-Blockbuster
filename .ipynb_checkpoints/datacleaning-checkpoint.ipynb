{
 "cells": [
  {
   "cell_type": "code",
   "execution_count": null,
   "metadata": {},
   "outputs": [],
   "source": [
    "import pandas as pd"
   ]
  },
  {
   "cell_type": "markdown",
   "metadata": {},
   "source": [
    "# Introduction - Data Cleaning Notebook\n",
    "\n",
    "Goal: Analyze the available data to present a concise representation of the movie industry, analyze the success of movies based on various factors, and provide insights and reccomendations for the development of film projects.\n",
    "\n",
    "Methodology:\n",
    "    \n",
    "1. Explore the data to determine questions to investigate.\n",
    "2. Determine 3 relevant questions to examine. \n",
    "3. Clean the data. \n",
    "4. Restructure the data so that it can be analyzed.\n",
    "5. Use data visualizations and statistical analysis to make inferences.\n",
    "6. Develop a presentation of findings. "
   ]
  },
  {
   "cell_type": "markdown",
   "metadata": {},
   "source": [
    "# Step 1- Data Exploration"
   ]
  },
  {
   "cell_type": "markdown",
   "metadata": {},
   "source": [
    "#### Investigate Dataframes"
   ]
  },
  {
   "cell_type": "code",
   "execution_count": null,
   "metadata": {
    "scrolled": true
   },
   "outputs": [],
   "source": [
    "def unpack_df(filename, tsv=False, encoding=False):\n",
    "    \"\"\"Display the head and info from a csv file.\n",
    "\n",
    "    Kwargs:\n",
    "    tsv -- if True sets delimiter to tabs\n",
    "    encoding --  if True sets encoding to 'latin'\"\"\"\n",
    "    if encoding==True:\n",
    "        temp_df = pd.read_csv(filename, delimiter='\\t', \n",
    "                              encoding='latin')\n",
    "    elif tsv==True:\n",
    "        temp_df = pd.read_csv(filename, delimiter='\\t')\n",
    "    else:\n",
    "        temp_df = pd.read_csv(filename)\n",
    "    print('Info from {}'.format(filename))\n",
    "    display(temp_df.head())\n",
    "    display(temp_df.info())\n",
    "    print('\\n\\n\\n')\n",
    "\n",
    "unpack_df('Data/bom.movie_gross.csv.gz')\n",
    "unpack_df('Data/imdb.name.basics.csv.gz')\n",
    "unpack_df('Data/imdb.title.akas.csv.gz')\n",
    "unpack_df('Data/imdb.title.basics.csv.gz')\n",
    "unpack_df('Data/imdb.title.crew.csv.gz')\n",
    "unpack_df('Data/imdb.title.principals.csv.gz')\n",
    "unpack_df('Data/imdb.title.ratings.csv.gz')\n",
    "unpack_df('Data/rt.movie_info.tsv.gz', tsv=True)\n",
    "unpack_df('Data/rt.reviews.tsv.gz', encoding=True)\n",
    "unpack_df('Data/tmdb.movies.csv.gz')\n",
    "unpack_df('Data/tn.movie_budgets.csv.gz')"
   ]
  },
  {
   "cell_type": "markdown",
   "metadata": {},
   "source": [
    "#### Name Dataframes"
   ]
  },
  {
   "cell_type": "code",
   "execution_count": null,
   "metadata": {},
   "outputs": [],
   "source": [
    "gross_profits = pd.read_csv('Data/bom.movie_gross.csv.gz')\n",
    "imdb_crew = pd.read_csv('Data/imdb.name.basics.csv.gz')\n",
    "imdb_alt_titles = pd.read_csv('Data/imdb.title.akas.csv.gz')\n",
    "imdb_details = pd.read_csv('Data/imdb.title.basics.csv.gz')\n",
    "imdb_creators = pd.read_csv('Data/imdb.title.crew.csv.gz')\n",
    "imdb_principals = pd.read_csv(\n",
    "    'Data/imdb.title.principals.csv.gz'\n",
    "    )\n",
    "imdb_ratings = pd.read_csv('Data/imdb.title.ratings.csv.gz')\n",
    "rt_info = pd.read_csv('Data/rt.movie_info.tsv.gz', \n",
    "                      delimiter='\\t')\n",
    "rt_reviews = pd.read_csv('Data/rt.reviews.tsv.gz', \n",
    "                         delimiter='\\t', encoding='latin')\n",
    "tmdb = pd.read_csv('Data/tmdb.movies.csv.gz')\n",
    "budgets = pd.read_csv('Data/tn.movie_budgets.csv.gz')\n",
    "\n",
    "movie_data = [('gross_profits', gross_profits), \n",
    "              ('imdb_crew', imdb_crew), \n",
    "              ('imdb_alt_titles', imdb_alt_titles), \n",
    "              ('imdb_details', imdb_details), \n",
    "              ('imdb_creators', imdb_creators), \n",
    "              ('imdb_principals', imdb_principals),\n",
    "              ('imdb_ratings', imdb_ratings), \n",
    "              ('rt_info', rt_info), \n",
    "              ('rt_reviews', rt_reviews),\n",
    "              ('tmdb', tmdb), ('budgets', budgets)]"
   ]
  },
  {
   "cell_type": "markdown",
   "metadata": {},
   "source": [
    "# Step 2- Determine Questions\n",
    "\n",
    "The goal of this project is to reccomend a strategy to successfully launch a movie studio. Based on the data available I will first look at how best to measure success using the factors present in the data:\n",
    "        \n",
    "- Box Office Profit\n",
    "- Audience Reviews\n",
    "        \n",
    "I will investigate the following questions:            \n",
    "\n",
    "1. How much money should we invest?\n",
    "\n",
    "2. What kinds of films should we produce?\n",
    "\n",
    "3. When should they be released?\n",
    "\n",
    "4. Who should we hire to produce it?     "
   ]
  },
  {
   "cell_type": "markdown",
   "metadata": {},
   "source": [
    "# Step 3- Data Cleaning\n",
    "\n",
    "#### Duplicates:"
   ]
  },
  {
   "cell_type": "code",
   "execution_count": null,
   "metadata": {
    "scrolled": true
   },
   "outputs": [],
   "source": [
    "for dftup in movie_data:\n",
    "    # Use dftup[0] to identify section of the output.\n",
    "    print('Duplicates in {}:'.format(dftup[0]))\n",
    "    display(dftup[1][dftup[1].duplicated()])\n",
    "    print('\\n\\n')"
   ]
  },
  {
   "cell_type": "code",
   "execution_count": null,
   "metadata": {
    "scrolled": true
   },
   "outputs": [],
   "source": [
    "rt_reviews.drop_duplicates(inplace=True)\n",
    "\n",
    "rt_reviews[rt_reviews.duplicated()]"
   ]
  },
  {
   "cell_type": "markdown",
   "metadata": {},
   "source": [
    "#### Null Values and Other Issues:"
   ]
  },
  {
   "cell_type": "code",
   "execution_count": null,
   "metadata": {
    "scrolled": true
   },
   "outputs": [],
   "source": [
    "for dftup in movie_data:\n",
    "    print('Total null values for {}:'.format(dftup[0]))\n",
    "    display(dftup[1].isna().sum())\n",
    "    print('\\n\\n')"
   ]
  },
  {
   "cell_type": "markdown",
   "metadata": {},
   "source": [
    "###### gross_profits"
   ]
  },
  {
   "cell_type": "code",
   "execution_count": null,
   "metadata": {
    "scrolled": false
   },
   "outputs": [],
   "source": [
    "# Try to find a worthy replacement value.\n",
    "gross_profits['domestic_gross'].median()"
   ]
  },
  {
   "cell_type": "code",
   "execution_count": null,
   "metadata": {},
   "outputs": [],
   "source": [
    "gross_profits[~gross_profits['foreign_gross'].isna()]['domestic_gross'].median()"
   ]
  },
  {
   "cell_type": "code",
   "execution_count": null,
   "metadata": {},
   "outputs": [],
   "source": [
    "# gross_profits['foreign_gross'].median()\n",
    "# returns error"
   ]
  },
  {
   "cell_type": "code",
   "execution_count": null,
   "metadata": {
    "scrolled": false
   },
   "outputs": [],
   "source": [
    "#Commas are preventing accurate statistic caluculation. \n",
    "#Based on an internet search these \n",
    "# values are also standardized to millions.\n",
    "gross_profits[gross_profits['foreign_gross']\n",
    "              .str.contains(',')==True]['foreign_gross'] "
   ]
  },
  {
   "cell_type": "code",
   "execution_count": null,
   "metadata": {
    "scrolled": false
   },
   "outputs": [],
   "source": [
    "# Create new values that can be added to the data.\n",
    "comma_values = [value for value in gross_profits\n",
    "                [gross_profits['foreign_gross']\n",
    "                 .str.contains(',')==True]['foreign_gross']]\n",
    "fixed_values = []\n",
    "for value in comma_values:\n",
    "    fixed_values.append(int(value\n",
    "                            .replace(',','')\n",
    "                            .replace('.','')+'00000'))\n",
    "# Test that it worked.\n",
    "fixed_values"
   ]
  },
  {
   "cell_type": "code",
   "execution_count": null,
   "metadata": {},
   "outputs": [],
   "source": [
    "# Assign the values.\n",
    "gross_profits.loc[gross_profits['foreign_gross']\n",
    "                  .str.contains(',')==True, \n",
    "                  'foreign_gross'] = fixed_values\n",
    "\n",
    "#Test that it worked.\n",
    "gross_profits[gross_profits['foreign_gross']\n",
    "              .str.contains(',')==True]['foreign_gross']"
   ]
  },
  {
   "cell_type": "code",
   "execution_count": null,
   "metadata": {
    "scrolled": true
   },
   "outputs": [],
   "source": [
    "#Find median foreign gross for films with a value.\n",
    "gross_profits[~gross_profits['foreign_gross']\n",
    "              .isna()]['foreign_gross'].median()"
   ]
  },
  {
   "cell_type": "code",
   "execution_count": null,
   "metadata": {
    "scrolled": true
   },
   "outputs": [],
   "source": [
    "#Find median domestic gross for films without \n",
    "# a foreign box office value.\n",
    "gross_profits[gross_profits['foreign_gross']\n",
    "              .isna()]['domestic_gross'].median()"
   ]
  },
  {
   "cell_type": "markdown",
   "metadata": {},
   "source": [
    "In gross_profits about a third of all 'foreign_gross' are nan. \n",
    "\n",
    "In seeking the best replacement value:\n",
    "\n",
    "- The median 'domestic_gross' overall: 1,400,000 \n",
    "\n",
    "- The median 'domestic_gross' for films without 'foreign_gross': 180,000.  \n",
    "\n",
    "- The median 'domestic_gross' for films with 'foreign_gross': 16,500,000 \n",
    "\n",
    "- The median 'foreign_gross' for films with values: 19,000,000. \n",
    "\n",
    "Because films with a foreign_gross value are significantly larger than those with a null I will preserve the shape of the values by using the ratio of 'domestic_gross' and 'foreign_gross' values to replace the nulls. "
   ]
  },
  {
   "cell_type": "code",
   "execution_count": null,
   "metadata": {
    "scrolled": true
   },
   "outputs": [],
   "source": [
    "#Replace null values with proper value using a ratio.\n",
    "proper = []\n",
    "f_d_ratio = 19000000/16500000\n",
    "\n",
    "#For each domestic gross value multiply it by the ratio.\n",
    "for value in gross_profits[gross_profits['foreign_gross']\n",
    "                           .isna()]['domestic_gross']:\n",
    "    proper.append(round(value * f_d_ratio, 1))\n",
    "    \n",
    "#Assign the new value.\n",
    "gross_profits.loc[gross_profits['foreign_gross']\n",
    "                  .isna(), 'domestic_gross'] = proper"
   ]
  },
  {
   "cell_type": "markdown",
   "metadata": {},
   "source": [
    "I will not need studio data for this analysis, so I'll drop that column."
   ]
  },
  {
   "cell_type": "code",
   "execution_count": null,
   "metadata": {
    "scrolled": false
   },
   "outputs": [],
   "source": [
    "# drop studio data\n",
    "gross_profits.drop('studio',axis=1,inplace=True)\n",
    "gross_profits.isna().sum()"
   ]
  },
  {
   "cell_type": "markdown",
   "metadata": {},
   "source": [
    "The remaining null values are for domestic gross, which is important, but there are so few values in the group we can just drop the rows. "
   ]
  },
  {
   "cell_type": "code",
   "execution_count": null,
   "metadata": {
    "scrolled": false
   },
   "outputs": [],
   "source": [
    "# drop the remaining null values\n",
    "gross_profits.dropna(inplace=True)\n",
    "gross_profits.isna().sum()"
   ]
  },
  {
   "cell_type": "markdown",
   "metadata": {},
   "source": [
    "###### imdb_crew"
   ]
  },
  {
   "cell_type": "markdown",
   "metadata": {},
   "source": [
    "The main useful information from this dataframe is the name of crew, the primary profession, and the titles they are known for. Birth year is not important, so I'll start by dropping that column."
   ]
  },
  {
   "cell_type": "code",
   "execution_count": null,
   "metadata": {
    "scrolled": true
   },
   "outputs": [],
   "source": [
    "#Drop birth year column.\n",
    "imdb_crew.drop('birth_year', axis=1, inplace=True)\n",
    "imdb_crew.isna().sum()"
   ]
  },
  {
   "cell_type": "markdown",
   "metadata": {},
   "source": [
    "In addition, I can use death year to imputed 'Working' or 'Passed' into the column 'Status' which we can use to determine if they are able to be hired in our production."
   ]
  },
  {
   "cell_type": "code",
   "execution_count": null,
   "metadata": {
    "scrolled": true
   },
   "outputs": [],
   "source": [
    "imdb_crew.loc[~imdb_crew['death_year']\n",
    "              .isna(), 'status'] = 'Passed'\n",
    "imdb_crew.loc[imdb_crew['death_year']\n",
    "              .isna(), 'status'] = 'Working'\n",
    "imdb_crew.drop('death_year', axis=1, inplace=True)\n",
    "imdb_crew.isna().sum()"
   ]
  },
  {
   "cell_type": "markdown",
   "metadata": {},
   "source": [
    "To replace the 'primary_profession' null values, I will impute the general term 'crew' because it may be helpful to know the impact these professionals had on movies even without knowing their specific role."
   ]
  },
  {
   "cell_type": "code",
   "execution_count": null,
   "metadata": {
    "scrolled": true
   },
   "outputs": [],
   "source": [
    "imdb_crew['primary_profession'].fillna(value='crew', \n",
    "                                       inplace=True)\n",
    "imdb_crew.isna().sum()"
   ]
  },
  {
   "cell_type": "markdown",
   "metadata": {},
   "source": [
    "Without knowing the movies they worked on, data about crew will simply not be useful."
   ]
  },
  {
   "cell_type": "code",
   "execution_count": null,
   "metadata": {
    "scrolled": false
   },
   "outputs": [],
   "source": [
    "# drop all rows containing null values\n",
    "imdb_crew.dropna(inplace=True)\n",
    "imdb_crew.isna().sum()"
   ]
  },
  {
   "cell_type": "markdown",
   "metadata": {},
   "source": [
    "###### imdb_alt_titles\n",
    "I won't be using this information for my analysis."
   ]
  },
  {
   "cell_type": "markdown",
   "metadata": {},
   "source": [
    "###### imdb_details"
   ]
  },
  {
   "cell_type": "code",
   "execution_count": null,
   "metadata": {
    "scrolled": true
   },
   "outputs": [],
   "source": [
    "display(imdb_details.head())\n",
    "display(imdb_details.isna().sum())"
   ]
  },
  {
   "cell_type": "markdown",
   "metadata": {},
   "source": [
    "The main useful information in this dataframe is the genres, with years and primary title as identifiers. For this analysis original_title will not be important information. For the films without genre data, I will drop them because they are a relatively small slice of the dataframe."
   ]
  },
  {
   "cell_type": "code",
   "execution_count": null,
   "metadata": {
    "scrolled": false
   },
   "outputs": [],
   "source": [
    "imdb_details.drop('original_title', axis=1, inplace=True)\n",
    "imdb_details.drop('runtime_minutes', axis=1, inplace=True)\n",
    "imdb_details.dropna(inplace=True)\n",
    "imdb_details.isna().sum()"
   ]
  },
  {
   "cell_type": "markdown",
   "metadata": {},
   "source": [
    "###### imdb_creators"
   ]
  },
  {
   "cell_type": "code",
   "execution_count": null,
   "metadata": {
    "scrolled": true
   },
   "outputs": [],
   "source": [
    "imdb_creators.isna().sum()"
   ]
  },
  {
   "cell_type": "code",
   "execution_count": null,
   "metadata": {},
   "outputs": [],
   "source": [
    "#Display percentage of directors and writers that are missing.\n",
    "display(\n",
    "    imdb_creators['directors']\n",
    "    .value_counts(dropna=False, normalize=True)[0])\n",
    "display(\n",
    "    imdb_creators['writers']\n",
    "    .value_counts(dropna=False, normalize=True)[0])"
   ]
  },
  {
   "cell_type": "markdown",
   "metadata": {},
   "source": [
    "There are relatively few null values in this dataframe. We'll just drop them."
   ]
  },
  {
   "cell_type": "code",
   "execution_count": null,
   "metadata": {
    "scrolled": true
   },
   "outputs": [],
   "source": [
    "imdb_creators.dropna(inplace=True)\n",
    "imdb_creators.isna().sum()"
   ]
  },
  {
   "cell_type": "markdown",
   "metadata": {},
   "source": [
    "###### imdb_principals"
   ]
  },
  {
   "cell_type": "code",
   "execution_count": null,
   "metadata": {
    "scrolled": true
   },
   "outputs": [],
   "source": [
    "imdb_principals.isna().sum()"
   ]
  },
  {
   "cell_type": "markdown",
   "metadata": {},
   "source": [
    "Which characters the actors played isn't relavant to our analysis."
   ]
  },
  {
   "cell_type": "code",
   "execution_count": null,
   "metadata": {},
   "outputs": [],
   "source": [
    "imdb_principals.drop(['characters','ordering'], \n",
    "                     axis=1, inplace=True)\n",
    "imdb_principals.head()"
   ]
  },
  {
   "cell_type": "markdown",
   "metadata": {},
   "source": [
    "The category column is storing the data I want. I will drop job. "
   ]
  },
  {
   "cell_type": "code",
   "execution_count": null,
   "metadata": {
    "scrolled": false
   },
   "outputs": [],
   "source": [
    "imdb_principals.drop(['job'], axis=1, inplace=True)\n",
    "imdb_principals.isna().sum()"
   ]
  },
  {
   "cell_type": "markdown",
   "metadata": {},
   "source": [
    "###### imdb_ratings\n",
    "Contains no Nulls."
   ]
  },
  {
   "cell_type": "markdown",
   "metadata": {},
   "source": [
    "###### rt_info"
   ]
  },
  {
   "cell_type": "code",
   "execution_count": null,
   "metadata": {
    "scrolled": true
   },
   "outputs": [],
   "source": [
    "display(rt_info.head())\n",
    "rt_info.isna().sum()"
   ]
  },
  {
   "cell_type": "markdown",
   "metadata": {},
   "source": [
    "First, I'll drop the information we won't need from this dataframe. "
   ]
  },
  {
   "cell_type": "code",
   "execution_count": null,
   "metadata": {},
   "outputs": [],
   "source": [
    "rt_info.drop(['dvd_date', 'currency', 'studio'], axis=1, \n",
    "             inplace=True)"
   ]
  },
  {
   "cell_type": "markdown",
   "metadata": {},
   "source": [
    "The rest of this information is not easy to replace, so I'll drop the rows that contain null."
   ]
  },
  {
   "cell_type": "code",
   "execution_count": null,
   "metadata": {
    "scrolled": true
   },
   "outputs": [],
   "source": [
    "rt_info.dropna(inplace=True)\n",
    "rt_info.isna().sum()"
   ]
  },
  {
   "cell_type": "markdown",
   "metadata": {},
   "source": [
    "###### rt_reviews"
   ]
  },
  {
   "cell_type": "code",
   "execution_count": null,
   "metadata": {
    "scrolled": true
   },
   "outputs": [],
   "source": [
    "rt_reviews.head()"
   ]
  },
  {
   "cell_type": "markdown",
   "metadata": {},
   "source": [
    "The information we want from this dataframe is just the fresh rating. I'll drop the rest."
   ]
  },
  {
   "cell_type": "code",
   "execution_count": null,
   "metadata": {},
   "outputs": [],
   "source": [
    "rt_reviews.drop(['review', 'rating', 'critic', \n",
    "                 'top_critic', 'publisher', 'date'], \n",
    "                axis=1, inplace=True)\n",
    "rt_reviews.isna().sum()"
   ]
  },
  {
   "cell_type": "markdown",
   "metadata": {},
   "source": [
    "##### tmdb\n",
    "Contains no Nulls."
   ]
  },
  {
   "cell_type": "markdown",
   "metadata": {},
   "source": [
    "##### budgets\n",
    "This data needs to be converted to integers."
   ]
  },
  {
   "cell_type": "code",
   "execution_count": null,
   "metadata": {},
   "outputs": [],
   "source": [
    "budgets.head()"
   ]
  },
  {
   "cell_type": "code",
   "execution_count": null,
   "metadata": {},
   "outputs": [],
   "source": [
    "def fix_values(df, col):\n",
    "    \"\"\"Convert strings with , and $ to integers.\"\"\"\n",
    "    broken_values = [value for value in df[col]]\n",
    "    fixed_values = []\n",
    "    for value in broken_values:\n",
    "        fixed_values.append(int(value.replace(',','')\n",
    "                                .replace('$','')))\n",
    "    df[col] = fixed_values"
   ]
  },
  {
   "cell_type": "code",
   "execution_count": null,
   "metadata": {
    "scrolled": false
   },
   "outputs": [],
   "source": [
    "fix_values(budgets, 'production_budget')\n",
    "fix_values(budgets, 'domestic_gross')\n",
    "fix_values(budgets, 'worldwide_gross')\n",
    "budgets.head()"
   ]
  },
  {
   "cell_type": "code",
   "execution_count": null,
   "metadata": {},
   "outputs": [],
   "source": [
    "#Split release date into month and year.\n",
    "budgets['month'] = budgets['release_date']\n",
    "                   .map(lambda x: x.split()[0])\n",
    "budgets['year'] = budgets['release_date']\n",
    "                  .map(lambda x: x.split()[2])"
   ]
  },
  {
   "cell_type": "markdown",
   "metadata": {},
   "source": [
    "I'll also add a column called 'foreign_gross' and drop the ID column because it has no other reference points in my data."
   ]
  },
  {
   "cell_type": "code",
   "execution_count": null,
   "metadata": {
    "scrolled": false
   },
   "outputs": [],
   "source": [
    "budgets.drop('id', axis=1, inplace=True)\n",
    "budgets['foreign_gross']= budgets['worldwide_gross']\n",
    "                          -budgets['domestic_gross']\n",
    "budgets.head()"
   ]
  },
  {
   "cell_type": "markdown",
   "metadata": {},
   "source": [
    "# Step 4- Restructuring"
   ]
  },
  {
   "cell_type": "markdown",
   "metadata": {},
   "source": [
    "Next, I'll review the data and organized it into a single dataframe to use for analysis."
   ]
  },
  {
   "cell_type": "code",
   "execution_count": null,
   "metadata": {
    "scrolled": true
   },
   "outputs": [],
   "source": [
    "for df_tup in movie_data:\n",
    "    print('Info for {}:'.format(df_tup[0]))\n",
    "    display(df_tup[1].head())\n",
    "    display(df_tup[1].info())\n",
    "    print('\\n\\n\\n')"
   ]
  },
  {
   "cell_type": "markdown",
   "metadata": {},
   "source": [
    "The rotten tomatoes data doesn't have movie titles, which means that it will not be able to be joined with the other data. Because it is a much smaller dataset than those with imdb ids, I won't move forward with it.\n",
    "\n",
    "The 'imdb_creators' dataframe information is already in 'imdb_principals' and the 'gross_profits' dataframe does not contain production costs, so I won't use those either.  \n",
    "\n",
    "Next I'll create a master dataframe in five steps:\n",
    "\n",
    "1. Create the main dataframe by joing imdb_details with imdb_ratings\n",
    "\n",
    "2. Impute the names from 'imdb_crew' into 'imdb_principals to create a 'roles' dataframe.\n",
    "\n",
    "3. Join the 'roles' dataframe to the main dataframe using tconst as an index.\n",
    "\n",
    "4. Join the budgets dataframe using title as an index.\n",
    "\n",
    "5. Drop any columns that are redundant or unecessary\n",
    " \n",
    "###### 1. Create movies"
   ]
  },
  {
   "cell_type": "code",
   "execution_count": null,
   "metadata": {
    "scrolled": true
   },
   "outputs": [],
   "source": [
    "#Create the main dataframe.\n",
    "ratings = imdb_ratings.set_index('tconst')\n",
    "movies = imdb_details.set_index('tconst').join(ratings, \n",
    "                                               how='inner')\n",
    "\n",
    "#Check that it looks right.\n",
    "movies.head()"
   ]
  },
  {
   "cell_type": "markdown",
   "metadata": {},
   "source": [
    "##### 2. Create roles "
   ]
  },
  {
   "cell_type": "code",
   "execution_count": null,
   "metadata": {
    "scrolled": false
   },
   "outputs": [],
   "source": [
    "#Join the dataframes on nconst.\n",
    "prince = imdb_principals.set_index('nconst')\n",
    "roles = imdb_crew.set_index('nconst').join(prince, \n",
    "                                           how='inner')\n",
    "#Check that it looks right.\n",
    "roles.head()"
   ]
  },
  {
   "cell_type": "markdown",
   "metadata": {},
   "source": [
    "##### 3. Join roles to main dataframe"
   ]
  },
  {
   "cell_type": "code",
   "execution_count": null,
   "metadata": {
    "scrolled": false
   },
   "outputs": [],
   "source": [
    "#Reset movies index.\n",
    "movies.reset_index(inplace=True)\n",
    "\n",
    "#Join roles to movies.\n",
    "roles = roles.set_index('tconst')\n",
    "movies = movies.set_index('tconst').join(roles, \n",
    "                                         how='inner')\n",
    "#Check that it looks right.\n",
    "movies.info()"
   ]
  },
  {
   "cell_type": "markdown",
   "metadata": {},
   "source": [
    "##### 4. Join budgets to main dataframe"
   ]
  },
  {
   "cell_type": "code",
   "execution_count": null,
   "metadata": {},
   "outputs": [],
   "source": [
    "#Rename the index column.\n",
    "movies.rename(columns={'primary_title':'title'}, \n",
    "              inplace=True)\n",
    "budgets.rename(columns={'movie':'title'}, \n",
    "               inplace=True)\n",
    "\n",
    "#Join the dataframes.\n",
    "budgets = budgets.set_index('title') \n",
    "movies = movies.set_index('title').join(budgets, \n",
    "                                        how='inner')\n",
    "movies.reset_index(inplace=True)\n",
    "display(movies.info())\n",
    "display(movies.head())"
   ]
  },
  {
   "cell_type": "markdown",
   "metadata": {},
   "source": [
    "##### 5. Drop unecessary columns"
   ]
  },
  {
   "cell_type": "code",
   "execution_count": null,
   "metadata": {},
   "outputs": [],
   "source": [
    "movies.drop(['start_year', 'primary_profession',\n",
    "             'known_for_titles', 'release_date'], \n",
    "            axis=1, inplace=True)"
   ]
  },
  {
   "cell_type": "markdown",
   "metadata": {},
   "source": [
    "# Conclusion"
   ]
  },
  {
   "cell_type": "code",
   "execution_count": null,
   "metadata": {
    "scrolled": true
   },
   "outputs": [],
   "source": [
    "display(movies.info())\n",
    "display(movies.head())\n",
    "\n",
    "movies['title'].nunique()"
   ]
  },
  {
   "cell_type": "markdown",
   "metadata": {},
   "source": [
    "With 2126 films in the dataframe we'll be able to do significant analysis on film trends. The last step of the data cleaning process is saving the dataframe as a csv to use in the analysis notebook."
   ]
  },
  {
   "cell_type": "code",
   "execution_count": null,
   "metadata": {},
   "outputs": [],
   "source": [
    "movies.to_csv('movies.csv')"
   ]
  },
  {
   "cell_type": "code",
   "execution_count": null,
   "metadata": {},
   "outputs": [],
   "source": []
  }
 ],
 "metadata": {
  "kernelspec": {
   "display_name": "learn-env",
   "language": "python",
   "name": "learn-env"
  },
  "language_info": {
   "codemirror_mode": {
    "name": "ipython",
    "version": 3
   },
   "file_extension": ".py",
   "mimetype": "text/x-python",
   "name": "python",
   "nbconvert_exporter": "python",
   "pygments_lexer": "ipython3",
   "version": "3.7.4"
  }
 },
 "nbformat": 4,
 "nbformat_minor": 2
}
